{
  "nbformat": 4,
  "nbformat_minor": 0,
  "metadata": {
    "colab": {
      "name": "ngram_selectkbest_featureimportance.ipynb",
      "provenance": [],
      "collapsed_sections": [],
      "authorship_tag": "ABX9TyMbP9j4q5nOJOc2JV1TxwTC",
      "include_colab_link": true
    },
    "kernelspec": {
      "name": "python3",
      "display_name": "Python 3"
    }
  },
  "cells": [
    {
      "cell_type": "markdown",
      "metadata": {
        "id": "view-in-github",
        "colab_type": "text"
      },
      "source": [
        "<a href=\"https://colab.research.google.com/github/superspray/DeepRecommender/blob/master/ngram_selectkbest_featureimportance_pdp.ipynb\" target=\"_parent\"><img src=\"https://colab.research.google.com/assets/colab-badge.svg\" alt=\"Open In Colab\"/></a>"
      ]
    },
    {
      "cell_type": "code",
      "metadata": {
        "colab": {
          "base_uri": "https://localhost:8080/",
          "height": 708
        },
        "id": "I7Er-BtjPfZf",
        "outputId": "8ee8dedb-9597-4e48-e322-eb6fde311f97"
      },
      "source": [
        "!git clone https://github.com/superspray/study.git\r\n",
        "\r\n",
        "import numpy as np # linear algebra\r\n",
        "import pandas as pd # data processing, CSV file I/O (e.g. pd.read_csv)\r\n",
        "from sklearn.preprocessing import LabelEncoder\r\n",
        "import lightgbm as lgb\r\n",
        "from tqdm import tqdm\r\n",
        "from sklearn.ensemble.partial_dependence import partial_dependence, plot_partial_dependence\r\n",
        "!pip install pdpbox\r\n",
        "from pdpbox import pdp, get_dataset, info_plots\r\n",
        "\r\n",
        "from sklearn.model_selection import GridSearchCV\r\n",
        "from sklearn.pipeline import Pipeline\r\n",
        "from sklearn.linear_model import LogisticRegression\r\n",
        "from sklearn.feature_extraction.text import TfidfVectorizer\r\n",
        "from sklearn.naive_bayes import MultinomialNB\r\n",
        "from sklearn.metrics import accuracy_score, precision_score, recall_score\r\n",
        "from sklearn.pipeline import Pipeline\r\n",
        "from sklearn.feature_extraction.text import TfidfVectorizer, CountVectorizer\r\n",
        "from sklearn.svm import LinearSVC,SVC\r\n",
        "from sklearn.linear_model import LogisticRegression\r\n",
        "from sklearn.ensemble import RandomForestClassifier\r\n",
        "from sklearn.metrics import accuracy_score, confusion_matrix, classification_report\r\n",
        "\r\n",
        "from sklearn.feature_selection import SelectKBest, chi2, f_classif, mutual_info_classif\r\n",
        "\r\n",
        "train_data=pd.read_csv('/content/study/train2.csv')#, encoding='latin_1')#, engine='python', error_bad_lines=False)\r\n",
        "#train_data = pd.read_csv('/content/Corona_NLP_train.csv', encoding='latin_1')\r\n",
        "\r\n",
        "test_data = pd.read_csv('/content/study/Corona_NLP_test.csv')\r\n",
        "train_data.columns=test_data.columns\r\n",
        "print('train data shape is :', train_data.shape)\r\n",
        "print('test data shape is :', test_data.shape)\r\n",
        "train_data.tail()\r\n",
        "\r\n",
        "#train_data.drop_duplicates(inplace= True)\r\n",
        "train_data=train_data.drop_duplicates()\r\n",
        "test_data.drop_duplicates(inplace=True)\r\n",
        "train_data=train_data[train_data.Sentiment.notnull()]\r\n",
        "#train_data = train_data[train_data['Sentiment'].notna()]\r\n",
        "#train_data = train_data[train_data['Sentiment'].notna()]\r\n",
        "\r\n",
        "print('train data shape is :', train_data.shape)\r\n",
        "print('test data shape is :', test_data.shape)\r\n",
        "train_data.tail()\r\n",
        "train_data.head()\r\n"
      ],
      "execution_count": 5,
      "outputs": [
        {
          "output_type": "stream",
          "text": [
            "fatal: destination path 'study' already exists and is not an empty directory.\n",
            "Collecting pdpbox\n",
            "\u001b[?25l  Downloading https://files.pythonhosted.org/packages/87/23/ac7da5ba1c6c03a87c412e7e7b6e91a10d6ecf4474906c3e736f93940d49/PDPbox-0.2.0.tar.gz (57.7MB)\n",
            "\u001b[K     |████████████████████████████████| 57.7MB 67kB/s \n",
            "\u001b[?25hRequirement already satisfied: pandas in /usr/local/lib/python3.6/dist-packages (from pdpbox) (1.1.4)\n",
            "Requirement already satisfied: numpy in /usr/local/lib/python3.6/dist-packages (from pdpbox) (1.18.5)\n",
            "Requirement already satisfied: scipy in /usr/local/lib/python3.6/dist-packages (from pdpbox) (1.4.1)\n",
            "Requirement already satisfied: matplotlib>=2.1.2 in /usr/local/lib/python3.6/dist-packages (from pdpbox) (3.2.2)\n",
            "Requirement already satisfied: joblib in /usr/local/lib/python3.6/dist-packages (from pdpbox) (0.17.0)\n",
            "Requirement already satisfied: psutil in /usr/local/lib/python3.6/dist-packages (from pdpbox) (5.4.8)\n",
            "Requirement already satisfied: scikit-learn in /usr/local/lib/python3.6/dist-packages (from pdpbox) (0.22.2.post1)\n",
            "Requirement already satisfied: python-dateutil>=2.7.3 in /usr/local/lib/python3.6/dist-packages (from pandas->pdpbox) (2.8.1)\n",
            "Requirement already satisfied: pytz>=2017.2 in /usr/local/lib/python3.6/dist-packages (from pandas->pdpbox) (2018.9)\n",
            "Requirement already satisfied: pyparsing!=2.0.4,!=2.1.2,!=2.1.6,>=2.0.1 in /usr/local/lib/python3.6/dist-packages (from matplotlib>=2.1.2->pdpbox) (2.4.7)\n",
            "Requirement already satisfied: cycler>=0.10 in /usr/local/lib/python3.6/dist-packages (from matplotlib>=2.1.2->pdpbox) (0.10.0)\n",
            "Requirement already satisfied: kiwisolver>=1.0.1 in /usr/local/lib/python3.6/dist-packages (from matplotlib>=2.1.2->pdpbox) (1.3.1)\n",
            "Requirement already satisfied: six>=1.5 in /usr/local/lib/python3.6/dist-packages (from python-dateutil>=2.7.3->pandas->pdpbox) (1.15.0)\n",
            "Building wheels for collected packages: pdpbox\n",
            "  Building wheel for pdpbox (setup.py) ... \u001b[?25l\u001b[?25hdone\n",
            "  Created wheel for pdpbox: filename=PDPbox-0.2.0-cp36-none-any.whl size=57690724 sha256=7678fa7602de058951141323fb742cfc6009b4bc7e389a93ce0b7011579773e1\n",
            "  Stored in directory: /root/.cache/pip/wheels/7d/08/51/63fd122b04a2c87d780464eeffb94867c75bd96a64d500a3fe\n",
            "Successfully built pdpbox\n",
            "Installing collected packages: pdpbox\n",
            "Successfully installed pdpbox-0.2.0\n",
            "train data shape is : (82311, 6)\n",
            "test data shape is : (3798, 6)\n",
            "train data shape is : (41158, 6)\n",
            "test data shape is : (3798, 6)\n"
          ],
          "name": "stdout"
        },
        {
          "output_type": "execute_result",
          "data": {
            "text/html": [
              "<div>\n",
              "<style scoped>\n",
              "    .dataframe tbody tr th:only-of-type {\n",
              "        vertical-align: middle;\n",
              "    }\n",
              "\n",
              "    .dataframe tbody tr th {\n",
              "        vertical-align: top;\n",
              "    }\n",
              "\n",
              "    .dataframe thead th {\n",
              "        text-align: right;\n",
              "    }\n",
              "</style>\n",
              "<table border=\"1\" class=\"dataframe\">\n",
              "  <thead>\n",
              "    <tr style=\"text-align: right;\">\n",
              "      <th></th>\n",
              "      <th>UserName</th>\n",
              "      <th>ScreenName</th>\n",
              "      <th>Location</th>\n",
              "      <th>TweetAt</th>\n",
              "      <th>OriginalTweet</th>\n",
              "      <th>Sentiment</th>\n",
              "    </tr>\n",
              "  </thead>\n",
              "  <tbody>\n",
              "    <tr>\n",
              "      <th>0</th>\n",
              "      <td>22249.0</td>\n",
              "      <td>67201.0</td>\n",
              "      <td>NaN</td>\n",
              "      <td>23-03-2020</td>\n",
              "      <td>Donald J. Trump, I'm worried about the economi...</td>\n",
              "      <td>Positive</td>\n",
              "    </tr>\n",
              "    <tr>\n",
              "      <th>1</th>\n",
              "      <td>22250.0</td>\n",
              "      <td>67202.0</td>\n",
              "      <td>Cranberry Township\"</td>\n",
              "      <td>23-03-2020</td>\n",
              "      <td>Found my secret stash of #ToiletPaper for anyo...</td>\n",
              "      <td>Extremely Positive</td>\n",
              "    </tr>\n",
              "    <tr>\n",
              "      <th>2</th>\n",
              "      <td>39928.0</td>\n",
              "      <td>84880.0</td>\n",
              "      <td>California_USA</td>\n",
              "      <td>09-04-2020</td>\n",
              "      <td>joined the growing list of distilleries produ...</td>\n",
              "      <td>Extremely Positive</td>\n",
              "    </tr>\n",
              "    <tr>\n",
              "      <th>3</th>\n",
              "      <td>39929.0</td>\n",
              "      <td>84881.0</td>\n",
              "      <td>Worthing_England</td>\n",
              "      <td>09-04-2020</td>\n",
              "      <td>Spanish supermarket chains amp food distributo...</td>\n",
              "      <td>Negative</td>\n",
              "    </tr>\n",
              "    <tr>\n",
              "      <th>4</th>\n",
              "      <td>3799.0</td>\n",
              "      <td>48751.0</td>\n",
              "      <td>London</td>\n",
              "      <td>16-03-2020</td>\n",
              "      <td>@MeNyrbie @Phil_Gahan @Chrisitv https://t.co/i...</td>\n",
              "      <td>Neutral</td>\n",
              "    </tr>\n",
              "  </tbody>\n",
              "</table>\n",
              "</div>"
            ],
            "text/plain": [
              "   UserName  ...           Sentiment\n",
              "0   22249.0  ...            Positive\n",
              "1   22250.0  ...  Extremely Positive\n",
              "2   39928.0  ...  Extremely Positive\n",
              "3   39929.0  ...            Negative\n",
              "4    3799.0  ...             Neutral\n",
              "\n",
              "[5 rows x 6 columns]"
            ]
          },
          "metadata": {
            "tags": []
          },
          "execution_count": 5
        }
      ]
    },
    {
      "cell_type": "code",
      "metadata": {
        "colab": {
          "base_uri": "https://localhost:8080/"
        },
        "id": "VnQduwc3WbSg",
        "outputId": "fab0e848-49a9-45c1-bcdd-4cfb3099cd78"
      },
      "source": [
        "import nltk\r\n",
        "nltk.download('stopwords')\r\n",
        "import re\r\n",
        "from nltk.corpus import stopwords\r\n",
        "stopWords = stopwords.words('english')\r\n",
        "\r\n",
        "\r\n",
        "def clean(text):\r\n",
        "\r\n",
        "    #     remove urls\r\n",
        "    text = re.sub(r'http\\S+', \" \", str(text))\r\n",
        "    text = re.sub(r\"i'm\", \"i am\", text)\r\n",
        "    text = re.sub(r\"you'll\", \"you will\", text)\r\n",
        "    text = re.sub(r\"i'll\", \"i will\", text)\r\n",
        "    text = re.sub(r\"she'll\", \"she will\", text)\r\n",
        "    text = re.sub(r\"he'll\", \"he will\", text)\r\n",
        "    text = re.sub(r\"he's\", \"he is\", text)\r\n",
        "    text = re.sub(r\"she's\", \"she is\", text)\r\n",
        "    text = re.sub(r\"that's\", \"that is\", text)\r\n",
        "    text = re.sub(r\"what's\", \"what is\", text)\r\n",
        "    text = re.sub(r\"where's\", \"where is\", text)\r\n",
        "    text = re.sub(r\"there's\", \"there is\", text)\r\n",
        "    text = re.sub(r\"here's\", \"here is\", text)\r\n",
        "    text = re.sub(r\"who's\", \"who is\", text)\r\n",
        "    text = re.sub(r\"how's\", \"how is\", text)\r\n",
        "    text = re.sub(r\"\\'ll\", \" will\", text)\r\n",
        "    text = re.sub(r\"\\'ve\", \" have\", text)\r\n",
        "    text = re.sub(r\"\\'re\", \" are\", text)\r\n",
        "    text = re.sub(r\"\\'d\", \" would\", text)\r\n",
        "    text = re.sub(r\"can't\", \"cannot\", text)\r\n",
        "    text = re.sub(r\"won't\", \"will not\", text)\r\n",
        "    text = re.sub(r\"don't\", \"do not\", text)\r\n",
        "    text = re.sub(r\"shouldn't\", \"should not\", text)\r\n",
        "    text = re.sub(r\"n't\", \" not\", text)\r\n",
        "\r\n",
        "    #     remove mentions\r\n",
        "    text = re.sub(r'@\\w+',' ',text)\r\n",
        "\r\n",
        "    #     remove hastags\r\n",
        "    text = re.sub(r'#\\w+', ' ', text)\r\n",
        "\r\n",
        "    #     remove digits\r\n",
        "    text = re.sub(r'\\d+', ' ', text)\r\n",
        "\r\n",
        "    #     remove html tags\r\n",
        "    text = re.sub('r<.*?>',' ', text)\r\n",
        "    text = re.sub(r'[^(A-Za-z)]',r' ',text)\r\n",
        "    text = re.sub('[\\d]',r'',text)\r\n",
        "    text = re.sub('[()]',r'',text)\r\n",
        "    text = re.sub(r'(<.*?>)',r'',text)\r\n",
        "    text = re.sub(r'  ',' ',text)\r\n",
        "    #     remove stop words \r\n",
        "    text = text.split()\r\n",
        "    text = \" \".join([word.lower() for word in text if not word in stopWords])\r\n",
        "    \r\n",
        "    text = re.sub(r'  ',' ',text)\r\n",
        "    text= re.sub(r\"\\s+\",\" \",text).strip()\r\n",
        "\r\n",
        "    return text\r\n",
        "train_df=train_data.copy().dropna(subset=['OriginalTweet']) \r\n",
        "test_df=test_data.copy()\r\n",
        "train_df['OriginalTweet'] = train_df['OriginalTweet'].apply(lambda x: clean(x))\r\n",
        "test_df['OriginalTweet'] = test_df['OriginalTweet'].apply(lambda x: clean(x))\r\n",
        "train_df= train_df[train_df['OriginalTweet'].notna()]\r\n",
        "train_df= train_df[train_df['OriginalTweet']!='']\r\n",
        "train_df= train_df[train_df['OriginalTweet']!=' ']\r\n",
        "train_df= train_df[train_df['OriginalTweet']!='  ']\r\n",
        "test_df= test_df[test_df['OriginalTweet']!='']\r\n",
        "test_df= test_df[test_df['OriginalTweet']!='']\r\n",
        "\r\n",
        "print('train data shape is :', train_df.shape)\r\n",
        "print('test df shape is :', test_df.shape)\r\n",
        "\r\n",
        "train_df.head(10)\r\n",
        "\r\n",
        "\r\n",
        "df_train = train_df.iloc[:,4:].reset_index(drop=True)\r\n",
        "df_test = test_df.iloc[:,4:].reset_index(drop=True)\r\n",
        "\r\n",
        "l = {\"Neutral\":0, \"Positive\":1,\"Extremely Positive\":1,\"Negative\":-1, \"Extremely Negative\":-1 }\r\n",
        "\r\n",
        "df_train=df_train.replace({\"Sentiment\": l})\r\n",
        "df_test=df_test.replace({\"Sentiment\": l})\r\n",
        "df_train.head()\r\n",
        "y_train = df_train['Sentiment'].copy()\r\n",
        "y_test = df_test['Sentiment'].copy()\r\n",
        "X_text_train = df_train['OriginalTweet'].copy()\r\n",
        "X_text_test = df_test['OriginalTweet'].copy()\r\n",
        "X_test=X_text_test\r\n",
        "X_train=X_text_train\r\n",
        "\r\n",
        "X_train.shape, y_train.shape,X_test.shape, y_test.shape\r\n",
        "\r\n",
        "from sklearn.model_selection import train_test_split\r\n",
        "\r\n",
        "\r\n",
        "from sklearn.naive_bayes import MultinomialNB\r\n",
        "from sklearn.linear_model import LogisticRegression\r\n",
        "import datetime\r\n",
        "### K-fold cross-validation using pipeline ###\r\n",
        "from sklearn.model_selection import cross_val_score\r\n",
        "import time\r\n",
        "from sklearn.base import TransformerMixin \r\n",
        "from sklearn.feature_selection import SelectKBest, chi2\r\n",
        "!pip install xgboost\r\n",
        "#%%time\r\n",
        "from xgboost import XGBClassifier\r\n",
        "\r\n",
        "ngram=(1,1)\r\n",
        "! pip install catboost\r\n",
        "from catboost import CatBoostClassifier,Pool\r\n",
        "# 시간 표시 함수\r\n",
        "\r\n",
        "def format_time(elapsed):\r\n",
        "\r\n",
        "    # 반올림\r\n",
        "    elapsed_rounded = int(round((elapsed)))\r\n",
        "    \r\n",
        "    # hh:mm:ss으로 형태 변경\r\n",
        "    return str(datetime.timedelta(seconds=elapsed_rounded))\r\n",
        "\r\n",
        "class DenseTransformer(TransformerMixin):\r\n",
        "\r\n",
        "    def fit(self, X, y=None, **fit_params):\r\n",
        "        return self\r\n",
        "\r\n",
        "    def transform(self, X, y=None, **fit_params):\r\n",
        "        return X.toarray()\r\n",
        "y_train.shape\r\n",
        "from sklearn.model_selection import StratifiedKFold\r\n",
        "\r\n"
      ],
      "execution_count": 6,
      "outputs": [
        {
          "output_type": "stream",
          "text": [
            "[nltk_data] Downloading package stopwords to /root/nltk_data...\n",
            "[nltk_data]   Unzipping corpora/stopwords.zip.\n",
            "train data shape is : (41119, 6)\n",
            "test df shape is : (3796, 6)\n",
            "Requirement already satisfied: xgboost in /usr/local/lib/python3.6/dist-packages (0.90)\n",
            "Requirement already satisfied: scipy in /usr/local/lib/python3.6/dist-packages (from xgboost) (1.4.1)\n",
            "Requirement already satisfied: numpy in /usr/local/lib/python3.6/dist-packages (from xgboost) (1.18.5)\n",
            "Collecting catboost\n",
            "\u001b[?25l  Downloading https://files.pythonhosted.org/packages/7e/c1/c1c4707013f9e2f8a96899dd3a87f66c9167d6d776a6dc8fe7ec8678d446/catboost-0.24.3-cp36-none-manylinux1_x86_64.whl (66.3MB)\n",
            "\u001b[K     |████████████████████████████████| 66.3MB 57kB/s \n",
            "\u001b[?25hRequirement already satisfied: matplotlib in /usr/local/lib/python3.6/dist-packages (from catboost) (3.2.2)\n",
            "Requirement already satisfied: numpy>=1.16.0 in /usr/local/lib/python3.6/dist-packages (from catboost) (1.18.5)\n",
            "Requirement already satisfied: pandas>=0.24.0 in /usr/local/lib/python3.6/dist-packages (from catboost) (1.1.4)\n",
            "Requirement already satisfied: plotly in /usr/local/lib/python3.6/dist-packages (from catboost) (4.4.1)\n",
            "Requirement already satisfied: six in /usr/local/lib/python3.6/dist-packages (from catboost) (1.15.0)\n",
            "Requirement already satisfied: scipy in /usr/local/lib/python3.6/dist-packages (from catboost) (1.4.1)\n",
            "Requirement already satisfied: graphviz in /usr/local/lib/python3.6/dist-packages (from catboost) (0.10.1)\n",
            "Requirement already satisfied: python-dateutil>=2.1 in /usr/local/lib/python3.6/dist-packages (from matplotlib->catboost) (2.8.1)\n",
            "Requirement already satisfied: pyparsing!=2.0.4,!=2.1.2,!=2.1.6,>=2.0.1 in /usr/local/lib/python3.6/dist-packages (from matplotlib->catboost) (2.4.7)\n",
            "Requirement already satisfied: cycler>=0.10 in /usr/local/lib/python3.6/dist-packages (from matplotlib->catboost) (0.10.0)\n",
            "Requirement already satisfied: kiwisolver>=1.0.1 in /usr/local/lib/python3.6/dist-packages (from matplotlib->catboost) (1.3.1)\n",
            "Requirement already satisfied: pytz>=2017.2 in /usr/local/lib/python3.6/dist-packages (from pandas>=0.24.0->catboost) (2018.9)\n",
            "Requirement already satisfied: retrying>=1.3.3 in /usr/local/lib/python3.6/dist-packages (from plotly->catboost) (1.3.3)\n",
            "Installing collected packages: catboost\n",
            "Successfully installed catboost-0.24.3\n"
          ],
          "name": "stdout"
        }
      ]
    },
    {
      "cell_type": "code",
      "metadata": {
        "colab": {
          "base_uri": "https://localhost:8080/"
        },
        "id": "zN9XiK2aWcwk",
        "outputId": "5955e080-8876-434b-81f3-03f6e8ee0c75"
      },
      "source": [
        "ngram=(1,1)\r\n",
        "preproc = Pipeline([('tfidf',TfidfVectorizer(ngram_range = ngram,min_df = 5, max_df=0.6,lowercase = True)),('to_dense', DenseTransformer()),\r\n",
        "                      ('selec',SelectKBest(k=1000,score_func=chi2))])\r\n",
        "X_train1=preproc.fit_transform(X_train,y_train)\r\n",
        "X_test1=preproc.transform(X_test)\r\n",
        "train_dataset=Pool(data=X_train1, label=y_train)\r\n",
        "eval_dataset=Pool(data=X_test1, label=y_test)\r\n",
        "param_grid={\r\n",
        "'max_depth':[6,8],\r\n",
        "'iterations':[500,1000],\r\n",
        "'random_strength':[1,10],\r\n",
        "'max_bin':[16,32],\r\n",
        "}\r\n",
        "\r\n",
        "clf=CatBoostClassifier(random_seed=0, logging_level='Silent', l2_leaf_reg=None, iterations= 1000, max_bin=16, max_depth= 8, random_strength= 1)\r\n",
        "X_df=pd.DataFrame(X_train1, columns=select_k_voca)\r\n",
        "clf.fit(X_df,y_train)\r\n",
        "#print(clf.score(X_train1,y_train))                                                                                                                                                           \r\n",
        "print('Model Training Accuracy w/o CV: %.3f' % clf.score(train_dataset))\r\n",
        "print('Model Test Accuracy w/o CV: %.3f' % clf.score(eval_dataset))\r\n"
      ],
      "execution_count": 26,
      "outputs": [
        {
          "output_type": "stream",
          "text": [
            "Model Training Accuracy w/o CV: 0.855\n",
            "Model Test Accuracy w/o CV: 0.817\n"
          ],
          "name": "stdout"
        }
      ]
    },
    {
      "cell_type": "code",
      "metadata": {
        "colab": {
          "base_uri": "https://localhost:8080/"
        },
        "id": "IKvhWf3nWcqb",
        "outputId": "2966e438-13fe-4e3d-e901-34c10325111f"
      },
      "source": [
        "X_train.shape"
      ],
      "execution_count": 19,
      "outputs": [
        {
          "output_type": "execute_result",
          "data": {
            "text/plain": [
              "(41119,)"
            ]
          },
          "metadata": {
            "tags": []
          },
          "execution_count": 19
        }
      ]
    },
    {
      "cell_type": "code",
      "metadata": {
        "colab": {
          "base_uri": "https://localhost:8080/"
        },
        "id": "mBqYcW2vZcYD",
        "outputId": "8ca5059d-82f6-4051-dc45-23f87587125e"
      },
      "source": [
        "tfidf = TfidfVectorizer(ngram_range = (1,1),min_df = 5, max_df=0.6,lowercase = True)\r\n",
        "X_train_tfidf=tfidf.fit_transform(X_train)\r\n",
        "tfidf_dict=tfidf.get_feature_names()\r\n",
        "tfidf_dict[:10]\r\n",
        "tfidf_voca=tfidf.vocabulary_\r\n",
        "tfidf_voca= dict((v,k) for k,v in tfidf_voca.items())\r\n",
        "tfidf_voca"
      ],
      "execution_count": 8,
      "outputs": [
        {
          "output_type": "execute_result",
          "data": {
            "text/plain": [
              "{2471: 'donald',\n",
              " 8629: 'trump',\n",
              " 9258: 'worried',\n",
              " 2640: 'economic',\n",
              " 3069: 'fallout',\n",
              " 1890: 'covid',\n",
              " 7456: 'shelter',\n",
              " 6057: 'place',\n",
              " 1562: 'combination',\n",
              " 1913: 'crashing',\n",
              " 5630: 'oil',\n",
              " 6312: 'prices',\n",
              " 2014: 'cut',\n",
              " 1348: 'chase',\n",
              " 2587: 'during',\n",
              " 3946: 'holidays',\n",
              " 1929: 'credit',\n",
              " 8757: 'union',\n",
              " 6391: 'program',\n",
              " 1134: 'called',\n",
              " 3368: 'found',\n",
              " 7319: 'secret',\n",
              " 7893: 'stash',\n",
              " 365: 'anyone',\n",
              " 5445: 'needs',\n",
              " 6535: 'quality',\n",
              " 6500: 'pun',\n",
              " 4324: 'intended',\n",
              " 8374: 'thinks',\n",
              " 3672: 'greatest',\n",
              " 8463: 'toilet',\n",
              " 5832: 'paper',\n",
              " 2893: 'ever',\n",
              " 1921: 'created',\n",
              " 9215: 'within',\n",
              " 4481: 'joined',\n",
              " 3699: 'growing',\n",
              " 4826: 'list',\n",
              " 2413: 'distilleries',\n",
              " 6366: 'producing',\n",
              " 2475: 'donating',\n",
              " 3761: 'hand',\n",
              " 7199: 'sanitizer',\n",
              " 2615: 'ease',\n",
              " 7507: 'shortage',\n",
              " 9079: 'we',\n",
              " 8336: 'thankful',\n",
              " 3535: 'generous',\n",
              " 2477: 'donations',\n",
              " 3482: 'gallon',\n",
              " 2566: 'drums',\n",
              " 8395: 'three',\n",
              " 8680: 'two',\n",
              " 7757: 'spanish',\n",
              " 8099: 'supermarket',\n",
              " 1312: 'chains',\n",
              " 302: 'amp',\n",
              " 3310: 'food',\n",
              " 2427: 'distributors',\n",
              " 5905: 'paying',\n",
              " 3025: 'extra',\n",
              " 9246: 'workers',\n",
              " 1942: 'crisis',\n",
              " 6113: 'plus',\n",
              " 909: 'bonuses',\n",
              " 139: 'advice',\n",
              " 8218: 'talk',\n",
              " 5460: 'neighbours',\n",
              " 3076: 'family',\n",
              " 2930: 'exchange',\n",
              " 6005: 'phone',\n",
              " 5559: 'numbers',\n",
              " 1920: 'create',\n",
              " 1734: 'contact',\n",
              " 7264: 'schools',\n",
              " 2742: 'employer',\n",
              " 1375: 'chemist',\n",
              " 3635: 'gp',\n",
              " 7401: 'set',\n",
              " 5653: 'online',\n",
              " 7502: 'shopping',\n",
              " 57: 'accounts',\n",
              " 106: 'adequate',\n",
              " 8108: 'supplies',\n",
              " 6772: 'regular',\n",
              " 5130: 'meds',\n",
              " 5695: 'order',\n",
              " 1824: 'coronavirus',\n",
              " 575: 'australia',\n",
              " 9239: 'woolworths',\n",
              " 3571: 'give',\n",
              " 2690: 'elderly',\n",
              " 2344: 'disabled',\n",
              " 2121: 'dedicated',\n",
              " 4000: 'hours',\n",
              " 294: 'amid',\n",
              " 5730: 'outbreak',\n",
              " 5382: 'my',\n",
              " 7944: 'stock',\n",
              " 5648: 'one',\n",
              " 2746: 'empty',\n",
              " 6094: 'please',\n",
              " 5825: 'panic',\n",
              " 8356: 'there',\n",
              " 9178: 'will',\n",
              " 720: 'be',\n",
              " 2794: 'enough',\n",
              " 3325: 'for',\n",
              " 2897: 'everyone',\n",
              " 8209: 'take',\n",
              " 5441: 'need',\n",
              " 7910: 'stay',\n",
              " 1138: 'calm',\n",
              " 7150: 'safe',\n",
              " 5100: 'me',\n",
              " 6659: 'ready',\n",
              " 3595: 'go',\n",
              " 5534: 'not',\n",
              " 5842: 'paranoid',\n",
              " 8343: 'the',\n",
              " 7389: 'serious',\n",
              " 8370: 'thing',\n",
              " 4433: 'it',\n",
              " 1263: 'causes',\n",
              " 480: 'as',\n",
              " 5476: 'news',\n",
              " 6763: 'region',\n",
              " 3229: 'first',\n",
              " 1674: 'confirmed',\n",
              " 1228: 'case',\n",
              " 1142: 'came',\n",
              " 1867: 'county',\n",
              " 4655: 'last',\n",
              " 9108: 'week',\n",
              " 5942: 'people',\n",
              " 435: 'area',\n",
              " 7968: 'stores',\n",
              " 6506: 'purchase',\n",
              " 1458: 'cleaning',\n",
              " 3614: 'goods',\n",
              " 6867: 'reports',\n",
              " 1232: 'cashier',\n",
              " 3690: 'grocery',\n",
              " 7966: 'store',\n",
              " 7440: 'sharing',\n",
              " 4282: 'insights',\n",
              " 8457: 'to',\n",
              " 6452: 'prove',\n",
              " 1447: 'class',\n",
              " 4592: 'know',\n",
              " 8220: 'talking',\n",
              " 9058: 'was',\n",
              " 8460: 'today',\n",
              " 2295: 'did',\n",
              " 1107: 'buy',\n",
              " 2579: 'due',\n",
              " 6969: 'retail',\n",
              " 533: 'atlanta',\n",
              " 5662: 'open',\n",
              " 9026: 'walk',\n",
              " 1095: 'business',\n",
              " 1449: 'classes',\n",
              " 5482: 'next',\n",
              " 9112: 'weeks',\n",
              " 754: 'beginning',\n",
              " 5293: 'monday',\n",
              " 5041: 'march',\n",
              " 1756: 'continue',\n",
              " 6354: 'process',\n",
              " 5699: 'orders',\n",
              " 5523: 'normal',\n",
              " 8334: 'thank',\n",
              " 8730: 'understanding',\n",
              " 1823: 'corona',\n",
              " 6301: 'prevention',\n",
              " 7961: 'stop',\n",
              " 8371: 'things',\n",
              " 1230: 'cash',\n",
              " 8843: 'use',\n",
              " 5906: 'payment',\n",
              " 5177: 'methods',\n",
              " 7822: 'spread',\n",
              " 5537: 'notes',\n",
              " 271: 'also',\n",
              " 6253: 'prefer',\n",
              " 3949: 'home',\n",
              " 8433: 'time',\n",
              " 3171: 'fight',\n",
              " 242: 'all',\n",
              " 5306: 'month',\n",
              " 1958: 'crowding',\n",
              " 8100: 'supermarkets',\n",
              " 6951: 'restaurants',\n",
              " 4011: 'however',\n",
              " 6730: 'reducing',\n",
              " 1493: 'closing',\n",
              " 5009: 'malls',\n",
              " 5106: 'means',\n",
              " 8850: 'using',\n",
              " 2815: 'entrance',\n",
              " 2199: 'dependent',\n",
              " 7582: 'single',\n",
              " 7593: 'situation',\n",
              " 4185: 'increased',\n",
              " 2170: 'demand',\n",
              " 6371: 'products',\n",
              " 9011: 'wait',\n",
              " 5090: 'may',\n",
              " 4896: 'longer',\n",
              " 5861: 'particularly',\n",
              " 744: 'beef',\n",
              " 7436: 'share',\n",
              " 3403: 'freezer',\n",
              " 5802: 'packs',\n",
              " 5889: 'patience',\n",
              " 1206: 'caring',\n",
              " 1600: 'community',\n",
              " 4745: 'let',\n",
              " 4898: 'look',\n",
              " 4741: 'less',\n",
              " 1175: 'capable',\n",
              " 8943: 'village',\n",
              " 2798: 'ensure',\n",
              " 3835: 'healthy',\n",
              " 1016: 'bringing',\n",
              " 2487: 'doors',\n",
              " 3864: 'help',\n",
              " 7351: 'self',\n",
              " 4425: 'isolation',\n",
              " 8195: 'symptoms',\n",
              " 3009: 'exposed',\n",
              " 7707: 'somebody',\n",
              " 284: 'amazon',\n",
              " 2161: 'deliver',\n",
              " 9139: 'whatever',\n",
              " 6798: 'releases',\n",
              " 6922: 'resource',\n",
              " 1289: 'center',\n",
              " 8568: 'travel',\n",
              " 980: 'brands',\n",
              " 8804: 'up',\n",
              " 2056: 'date',\n",
              " 1728: 'consumer',\n",
              " 761: 'behavior',\n",
              " 8589: 'trends',\n",
              " 4808: 'lines',\n",
              " 8782: 'unpredictable',\n",
              " 2629: 'eating',\n",
              " 276: 'alternative',\n",
              " 3204: 'find',\n",
              " 9151: 'whether',\n",
              " 601: 'avoiding',\n",
              " 7022: 'right',\n",
              " 5040: 'mar',\n",
              " 7134: 'russia',\n",
              " 8142: 'surveillance',\n",
              " 9068: 'watchdog',\n",
              " 6862: 'reported',\n",
              " 3890: 'high',\n",
              " 5012: 'man',\n",
              " 8569: 'traveled',\n",
              " 4400: 'iran',\n",
              " 5586: 'observed',\n",
              " 9160: 'whole',\n",
              " 3313: 'foods',\n",
              " 3411: 'fresh',\n",
              " 2163: 'deliveries',\n",
              " 7342: 'seen',\n",
              " 7557: 'significant',\n",
              " 4184: 'increase',\n",
              " 3688: 'groceries',\n",
              " 7160: 'said',\n",
              " 7897: 'statement',\n",
              " 6964: 'resulted',\n",
              " 8197: 'systems',\n",
              " 4126: 'impact',\n",
              " 158: 'affecting',\n",
              " 8021: 'struggling',\n",
              " 1702: 'consider',\n",
              " 656: 'bank',\n",
              " 5516: 'nonprofit',\n",
              " 7397: 'services',\n",
              " 4129: 'impacts',\n",
              " 4475: 'jobs',\n",
              " 9077: 'way',\n",
              " 4777: 'life',\n",
              " 5414: 'nations',\n",
              " 9254: 'world',\n",
              " 5378: 'must',\n",
              " 6080: 'play',\n",
              " 3060: 'fair',\n",
              " 1392: 'china',\n",
              " 5472: 'new',\n",
              " 1393: 'chinese',\n",
              " 3723: 'guilty',\n",
              " 3583: 'global',\n",
              " 7233: 'scale',\n",
              " 5821: 'pandemic',\n",
              " 4128: 'impacting',\n",
              " 2105: 'decisions',\n",
              " 7170: 'sales',\n",
              " 52: 'according',\n",
              " 4280: 'insight',\n",
              " 8028: 'study',\n",
              " 283: 'amazing',\n",
              " 1354: 'cheap',\n",
              " 2078: 'deals',\n",
              " 3604: 'going',\n",
              " 313: 'and',\n",
              " 4517: 'just',\n",
              " 2441: 'dm',\n",
              " 8838: 'us',\n",
              " 2478: 'done',\n",
              " 2857: 'essential',\n",
              " 7945: 'stocked',\n",
              " 1111: 'buying',\n",
              " 76: 'actively',\n",
              " 1169: 'cannot',\n",
              " 4719: 'left',\n",
              " 1363: 'checkout',\n",
              " 7852: 'staff',\n",
              " 6129: 'police',\n",
              " 73: 'actions',\n",
              " 7352: 'selfish',\n",
              " 6383: 'profiteer',\n",
              " 8698: 'uk',\n",
              " 6142: 'poll',\n",
              " 4203: 'indicates',\n",
              " 4993: 'majority',\n",
              " 2963: 'expect',\n",
              " 5308: 'months',\n",
              " 7330: 'see',\n",
              " 3451: 'full',\n",
              " 6966: 'results',\n",
              " 1669: 'confidence',\n",
              " 8527: 'tracker',\n",
              " 4160: 'in',\n",
              " 6263: 'preparation',\n",
              " 3891: 'higher',\n",
              " 6201: 'potential',\n",
              " 4039: 'hunger',\n",
              " 1517: 'coalition',\n",
              " 6507: 'purchased',\n",
              " 5946: 'percent',\n",
              " 4134: 'implemented',\n",
              " 6449: 'protocols',\n",
              " 8377: 'this',\n",
              " 5319: 'morning',\n",
              " 8320: 'tested',\n",
              " 6180: 'positive',\n",
              " 3144: 'feel',\n",
              " 5634: 'ok',\n",
              " 3087: 'far',\n",
              " 4423: 'isolated',\n",
              " 7575: 'since',\n",
              " 6183: 'possible',\n",
              " 3012: 'exposure',\n",
              " 8958: 'virus',\n",
              " 4535: 'keep',\n",
              " 8808: 'updated',\n",
              " 5509: 'no',\n",
              " 2445: 'do',\n",
              " 5007: 'malicious',\n",
              " 6309: 'price',\n",
              " 4186: 'increases',\n",
              " 5570: 'nyc',\n",
              " 2195: 'department',\n",
              " 9245: 'worker',\n",
              " 6439: 'protection',\n",
              " 5806: 'page',\n",
              " 2317: 'digitally',\n",
              " 3183: 'file',\n",
              " 1625: 'complaint',\n",
              " 1472: 'click',\n",
              " 9240: 'word',\n",
              " 7720: 'soon',\n",
              " 2592: 'dwindling',\n",
              " 992: 'breaking',\n",
              " 1488: 'closed',\n",
              " 6585: 'raid',\n",
              " 5526: 'normally',\n",
              " 5071: 'massive',\n",
              " 4414: 'is',\n",
              " 1865: 'country',\n",
              " 7460: 'shelves',\n",
              " 3942: 'hole',\n",
              " 4108: 'images',\n",
              " 7011: 'richest',\n",
              " 5455: 'neighborhoods',\n",
              " 8762: 'united',\n",
              " 7899: 'states',\n",
              " 1496: 'closures',\n",
              " 1852: 'could',\n",
              " 2989: 'explode',\n",
              " 8925: 'via',\n",
              " 3453: 'fun',\n",
              " 3047: 'fact',\n",
              " 1847: 'cough',\n",
              " 3550: 'get',\n",
              " 217: 'aisle',\n",
              " 6295: 'pretty',\n",
              " 6563: 'quickly',\n",
              " 7726: 'sorry',\n",
              " 7229: 'say',\n",
              " 2889: 'event',\n",
              " 1161: 'cancelled',\n",
              " 3832: 'health',\n",
              " 9122: 'wellbeing',\n",
              " 7768: 'speakers',\n",
              " 8487: 'top',\n",
              " 6334: 'priority',\n",
              " 2352: 'disappointment',\n",
              " 1261: 'cause',\n",
              " 3086: 'faqs',\n",
              " 344: 'answered',\n",
              " 4816: 'link',\n",
              " 9128: 'went',\n",
              " 9313: 'yesterday',\n",
              " 3609: 'gone',\n",
              " 3805: 'has',\n",
              " 366: 'anything',\n",
              " 9312: 'yes',\n",
              " 1101: 'but',\n",
              " 6122: 'point',\n",
              " 6191: 'posting',\n",
              " 6010: 'photos',\n",
              " 4855: 'load',\n",
              " 8030: 'stuff',\n",
              " 8364: 'they',\n",
              " 5847: 'parents',\n",
              " 4562: 'kids',\n",
              " 7542: 'siblings',\n",
              " 2871: 'etc',\n",
              " 2898: 'everything',\n",
              " 8952: 'viral',\n",
              " 2003: 'current',\n",
              " 3200: 'finances',\n",
              " 6483: 'published',\n",
              " 8446: 'tips',\n",
              " 5013: 'manage',\n",
              " 5295: 'money',\n",
              " 1318: 'challenging',\n",
              " 8437: 'times',\n",
              " 9174: 'wife',\n",
              " 9253: 'works',\n",
              " 2012: 'customer',\n",
              " 1850: 'coughing',\n",
              " 2900: 'everywhere',\n",
              " 7230: 'saying',\n",
              " 6883: 'requested',\n",
              " 2125: 'deep',\n",
              " 1454: 'clean',\n",
              " 1604: 'company',\n",
              " 1840: 'cost',\n",
              " 6706: 'recommending',\n",
              " 8258: 'team',\n",
              " 7818: 'spray',\n",
              " 2383: 'disinfectant',\n",
              " 3610: 'gonna',\n",
              " 2299: 'die',\n",
              " 7543: 'sick',\n",
              " 1180: 'capitalism',\n",
              " 5550: 'now',\n",
              " 4791: 'like',\n",
              " 9216: 'without',\n",
              " 4504: 'judged',\n",
              " 6456: 'provide',\n",
              " 2974: 'experience',\n",
              " 2013: 'customers',\n",
              " 2820: 'environment',\n",
              " 517: 'associates',\n",
              " 6058: 'placed',\n",
              " 2000: 'curious',\n",
              " 8372: 'think',\n",
              " 7501: 'shoppers',\n",
              " 4918: 'lot',\n",
              " 715: 'bc',\n",
              " 8705: 'unable',\n",
              " 5813: 'pair',\n",
              " 7491: 'shoes',\n",
              " 1358: 'check',\n",
              " 8934: 'video',\n",
              " 8839: 'usa',\n",
              " 5049: 'market',\n",
              " 7890: 'starvation',\n",
              " 7972: 'story',\n",
              " 1498: 'clothes',\n",
              " 7039: 'rises',\n",
              " 9157: 'white',\n",
              " 5884: 'patches',\n",
              " 3353: 'forming',\n",
              " 4805: 'line',\n",
              " 5749: 'outside',\n",
              " 7742: 'south',\n",
              " 170: 'africans',\n",
              " 686: 'basic',\n",
              " 3922: 'hits',\n",
              " 7709: 'someone',\n",
              " 4851: 'living',\n",
              " 4869: 'local',\n",
              " 4431: 'issues',\n",
              " 454: 'around',\n",
              " 5614: 'offering',\n",
              " 3397: 'free',\n",
              " 5415: 'nationwide',\n",
              " 3746: 'half',\n",
              " 1629: 'completely',\n",
              " 1136: 'calling',\n",
              " 2580: 'dumb',\n",
              " 4083: 'idiots',\n",
              " 4890: 'lol',\n",
              " 5471: 'never',\n",
              " 8383: 'thought',\n",
              " 9272: 'would',\n",
              " 1565: 'come',\n",
              " 616: 'back',\n",
              " 6962: 'restrictions',\n",
              " 7763: 'sparking',\n",
              " 7126: 'run',\n",
              " 1167: 'cannabis',\n",
              " 9314: 'yet',\n",
              " 7948: 'stocking',\n",
              " 9109: 'weekend',\n",
              " 6268: 'preparing',\n",
              " 1574: 'coming',\n",
              " 2067: 'days',\n",
              " 7333: 'seeing',\n",
              " 6305: 'previous',\n",
              " 5822: 'pandemics',\n",
              " 7037: 'rise',\n",
              " 3124: 'fear',\n",
              " 6576: 'racism',\n",
              " 5127: 'medicines',\n",
              " 1716: 'conspiracy',\n",
              " 8353: 'theories',\n",
              " 1997: 'cures',\n",
              " 6811: 'remain',\n",
              " 2725: 'emergency',\n",
              " 9165: 'why',\n",
              " 9071: 'water',\n",
              " 8857: 'utility',\n",
              " 1603: 'companies',\n",
              " 7533: 'shut',\n",
              " 5195: 'middle',\n",
              " 1487: 'close',\n",
              " 8367: 'thier',\n",
              " 4911: 'lose',\n",
              " 9243: 'work',\n",
              " 4559: 'kid',\n",
              " 162: 'afford',\n",
              " 9269: 'worth',\n",
              " 2081: 'dear',\n",
              " 3308: 'following',\n",
              " 7683: 'social',\n",
              " 2411: 'distancing',\n",
              " 7119: 'rules',\n",
              " 7912: 'staying',\n",
              " 6298: 'prevent',\n",
              " 7789: 'spent',\n",
              " 224: 'alarming',\n",
              " 300: 'amount',\n",
              " 9148: 'where',\n",
              " 8040: 'submit',\n",
              " 2972: 'expenses',\n",
              " 4326: 'intensified',\n",
              " 68: 'across',\n",
              " 7410: 'several',\n",
              " 2512: 'downward',\n",
              " 6290: 'pressures',\n",
              " 1757: 'continued',\n",
              " 9121: 'well',\n",
              " 8105: 'supplied',\n",
              " 5055: 'markets',\n",
              " 5447: 'negative',\n",
              " 6965: 'resulting',\n",
              " 3670: 'great',\n",
              " 2066: 'day',\n",
              " 5608: 'of',\n",
              " 4140: 'important',\n",
              " 4088: 'if',\n",
              " 167: 'afraid',\n",
              " 9268: 'worst',\n",
              " 7252: 'scenario',\n",
              " 9059: 'wash',\n",
              " 1917: 'crazy',\n",
              " 9327: 'your',\n",
              " 1468: 'clerk',\n",
              " 4899: 'looked',\n",
              " 9094: 'weary',\n",
              " 3032: 'eyes',\n",
              " 8335: 'thanked',\n",
              " 6667: 'realized',\n",
              " 3424: 'front',\n",
              " 5826: 'panick',\n",
              " 6938: 'responders',\n",
              " 9248: 'working',\n",
              " 3786: 'hard',\n",
              " 7393: 'serve',\n",
              " 1599: 'communities',\n",
              " 9212: 'with',\n",
              " 2810: 'entire',\n",
              " 7504: 'shops',\n",
              " 5005: 'malaysia',\n",
              " 3046: 'facing',\n",
              " 1317: 'challenges',\n",
              " 5429: 'near',\n",
              " 3474: 'future',\n",
              " 8135: 'surprise',\n",
              " 5037: 'many',\n",
              " 4917: 'lost',\n",
              " 8385: 'thoughts',\n",
              " 1821: 'corner',\n",
              " 8216: 'taking',\n",
              " 128: 'advantage',\n",
              " 3128: 'fears',\n",
              " 942: 'both',\n",
              " 5067: 'masks',\n",
              " 4970: 'made',\n",
              " 5121: 'medical',\n",
              " 5971: 'personnel',\n",
              " 6886: 'require',\n",
              " 5078: 'material',\n",
              " 5137: 'melt',\n",
              " 888: 'blown',\n",
              " 3034: 'fabric',\n",
              " 5794: 'packaged',\n",
              " 5002: 'making',\n",
              " 5681: 'opposed',\n",
              " 7157: 'safety',\n",
              " 7675: 'so',\n",
              " 3145: 'feeling',\n",
              " 2873: 'ethical',\n",
              " 7939: 'still',\n",
              " 7473: 'ship',\n",
              " 1193: 'care',\n",
              " 5795: 'packages',\n",
              " 4927: 'loved',\n",
              " 5649: 'ones',\n",
              " 9138: 'what',\n",
              " 1730: 'consumers',\n",
              " 8468: 'told',\n",
              " 11: 'about',\n",
              " 4009: 'how',\n",
              " 1325: 'changed',\n",
              " 8348: 'their',\n",
              " 2029: 'daily',\n",
              " 4848: 'lives',\n",
              " 950: 'bought',\n",
              " 4001: 'house',\n",
              " 8540: 'tragic',\n",
              " 3036: 'facebook',\n",
              " 3695: 'group',\n",
              " 1096: 'businesses',\n",
              " 4187: 'increasing',\n",
              " 2859: 'essentials',\n",
              " 3386: 'frankly',\n",
              " 2242: 'despicable',\n",
              " 8496: 'totally',\n",
              " 8978: 'void',\n",
              " 7799: 'spirit',\n",
              " 7149: 'sadly',\n",
              " 8373: 'thinking',\n",
              " 3574: 'gives',\n",
              " 8358: 'therefore',\n",
              " 6032: 'pile',\n",
              " 5833: 'papers',\n",
              " 536: 'atm',\n",
              " 4059: 'hygiene',\n",
              " 9303: 'yeah',\n",
              " 7044: 'risky',\n",
              " 6669: 'really',\n",
              " 5437: 'necessary',\n",
              " 5364: 'mum',\n",
              " 4842: 'live',\n",
              " 7464: 'shielded',\n",
              " 5103: 'mean',\n",
              " 3969: 'hope',\n",
              " 4570: 'kind',\n",
              " 4998: 'makes',\n",
              " 7735: 'sound',\n",
              " 364: 'anymore',\n",
              " 1044: 'bs',\n",
              " 5438: 'necessities',\n",
              " 5538: 'nothing',\n",
              " 3886: 'hi',\n",
              " 8339: 'thanks',\n",
              " 7245: 'scare',\n",
              " 7369: 'sends',\n",
              " 7301: 'sea',\n",
              " 7611: 'skyrocketing',\n",
              " 5365: 'mumbai',\n",
              " 3704: 'gt',\n",
              " 8024: 'student',\n",
              " 4860: 'loan',\n",
              " 5907: 'payments',\n",
              " 96: 'addition',\n",
              " 3751: 'halting',\n",
              " 4338: 'interest',\n",
              " 7963: 'stopping',\n",
              " 1546: 'collections',\n",
              " 5360: 'much',\n",
              " 5442: 'needed',\n",
              " 4113: 'immediate',\n",
              " 6804: 'relief',\n",
              " 4211: 'individuals',\n",
              " 3790: 'hardship',\n",
              " 5646: 'on',\n",
              " 7546: 'side',\n",
              " 8264: 'tech',\n",
              " 269: 'already',\n",
              " 8319: 'test',\n",
              " 8011: 'strips',\n",
              " 8382: 'though',\n",
              " 2252: 'details',\n",
              " 4625: 'lacking',\n",
              " 2123: 'deem',\n",
              " 9018: 'waived',\n",
              " 2620: 'easily',\n",
              " 9010: 'wages',\n",
              " 2686: 'either',\n",
              " 4103: 'illness',\n",
              " 8831: 'urge',\n",
              " 8111: 'support',\n",
              " 826: 'bill',\n",
              " 4175: 'includes',\n",
              " 662: 'banks',\n",
              " 3257: 'flexibility',\n",
              " 7262: 'school',\n",
              " 5102: 'meals',\n",
              " 1298: 'ceo',\n",
              " 7495: 'shop',\n",
              " 7523: 'show',\n",
              " 4071: 'id',\n",
              " 7228: 'saw',\n",
              " 9325: 'young',\n",
              " 1868: 'couple',\n",
              " 7075: 'rolls',\n",
              " 8522: 'tp',\n",
              " 1908: 'crap',\n",
              " 5091: 'maybe',\n",
              " 6175: 'poses',\n",
              " 1630: 'complex',\n",
              " 6527: 'puzzle',\n",
              " 2167: 'delivery',\n",
              " 1176: 'capacity',\n",
              " 8132: 'surging',\n",
              " 2380: 'disgusting',\n",
              " 2378: 'disgraceful',\n",
              " 1338: 'charging',\n",
              " 4233: 'inflated',\n",
              " 4438: 'items',\n",
              " 3628: 'government',\n",
              " 7710: 'something',\n",
              " 6971: 'retailers',\n",
              " 6011: 'physical',\n",
              " 2006: 'curtail',\n",
              " 6963: 'result',\n",
              " 6523: 'put',\n",
              " 97: 'additional',\n",
              " 6288: 'pressure',\n",
              " 277: 'alternatives',\n",
              " 1995: 'curbside',\n",
              " 6015: 'pick',\n",
              " 3304: 'folks',\n",
              " 4072: 'idea',\n",
              " 4610: 'la',\n",
              " 3736: 'habra',\n",
              " 5616: 'offers',\n",
              " 7771: 'special',\n",
              " 7371: 'seniors',\n",
              " 4926: 'love',\n",
              " 3809: 'hate',\n",
              " 3824: 'head',\n",
              " 3780: 'happening',\n",
              " 2480: 'dont',\n",
              " 9235: 'wont',\n",
              " 7786: 'spend',\n",
              " 1591: 'common',\n",
              " 7372: 'sense',\n",
              " 306: 'an',\n",
              " 4748: 'letter',\n",
              " 2090: 'debt',\n",
              " 3939: 'holding',\n",
              " 5709: 'organizations',\n",
              " 5723: 'others',\n",
              " 4003: 'household',\n",
              " 2647: 'economy',\n",
              " 8158: 'suspend',\n",
              " 2091: 'debts',\n",
              " 3148: 'fees',\n",
              " 6941: 'response',\n",
              " 7552: 'sign',\n",
              " 9038: 'wanted',\n",
              " 5639: 'older',\n",
              " 577: 'australians',\n",
              " 5276: 'mobile',\n",
              " 3837: 'heard',\n",
              " 2938: 'exec',\n",
              " 4690: 'laying',\n",
              " 4932: 'low',\n",
              " 3972: 'hoping',\n",
              " 889: 'blows',\n",
              " 5223: 'mind',\n",
              " 8033: 'stupid',\n",
              " 891: 'blues',\n",
              " 6064: 'plan',\n",
              " 3385: 'frank',\n",
              " 1568: 'comes',\n",
              " 987: 'bread',\n",
              " 7343: 'sees',\n",
              " 7459: 'shelve',\n",
              " 9261: 'worry',\n",
              " 5818: 'pal',\n",
              " 7220: 'saved',\n",
              " 7179: 'same',\n",
              " 724: 'beans',\n",
              " 3618: 'got',\n",
              " 547: 'attempts',\n",
              " 5052: 'marketing',\n",
              " 1056: 'budgets',\n",
              " 7618: 'slashed',\n",
              " 3915: 'hiring',\n",
              " 3428: 'frozen',\n",
              " 7854: 'staffing',\n",
              " 2432: 'dive',\n",
              " 7889: 'startups',\n",
              " 707: 'battling',\n",
              " 2415: 'distillery',\n",
              " 6814: 'remains',\n",
              " 5671: 'operation',\n",
              " 6478: 'public',\n",
              " 8508: 'tours',\n",
              " 3989: 'hosting',\n",
              " 3457: 'functions',\n",
              " 2890: 'events',\n",
              " 5728: 'our',\n",
              " 3929: 'hoard',\n",
              " 17: 'absolutely',\n",
              " 8109: 'supply',\n",
              " 1311: 'chain',\n",
              " 4350: 'interrupted',\n",
              " 7201: 'sanitizing',\n",
              " 6346: 'probably',\n",
              " 1168: 'canned',\n",
              " 8519: 'toxic',\n",
              " 1374: 'chemicals',\n",
              " 7200: 'sanitizers',\n",
              " 3429: 'fruit',\n",
              " 8895: 'vegetables',\n",
              " 3876: 'herbs',\n",
              " 3452: 'fully',\n",
              " 7529: 'shows',\n",
              " 4034: 'humans',\n",
              " 4121: 'immune',\n",
              " 8196: 'system',\n",
              " 2027: 'dad',\n",
              " 5613: 'offered',\n",
              " 5200: 'might',\n",
              " 7712: 'sometimes',\n",
              " 3346: 'forget',\n",
              " 280: 'always',\n",
              " 2625: 'easy',\n",
              " 8845: 'useful',\n",
              " 8613: 'trolleys',\n",
              " 7125: 'rumours',\n",
              " 4063: 'hypermarket',\n",
              " 6024: 'picture',\n",
              " 5627: 'often',\n",
              " 4992: 'major',\n",
              " 1939: 'criminals',\n",
              " 8635: 'try',\n",
              " 2924: 'exception',\n",
              " 3878: 'here',\n",
              " 3716: 'guidance',\n",
              " 556: 'attorney',\n",
              " 3525: 'general',\n",
              " 5617: 'office',\n",
              " 8123: 'sure',\n",
              " 2568: 'dry',\n",
              " 1861: 'counties',\n",
              " 2667: 'effected',\n",
              " 6184: 'possibly',\n",
              " 4876: 'lockdown',\n",
              " 4361: 'introduce',\n",
              " 3350: 'form',\n",
              " 6633: 'rationing',\n",
              " 2627: 'eat',\n",
              " 7708: 'somehow',\n",
              " 3425: 'frontline',\n",
              " 8363: 'these',\n",
              " 3026: 'extraordinary',\n",
              " 3028: 'extreme',\n",
              " 9146: 'when',\n",
              " 1364: 'checkouts',\n",
              " 5350: 'moving',\n",
              " 5828: 'panicking',\n",
              " 3815: 'having',\n",
              " 9323: 'you',\n",
              " 3297: 'focus',\n",
              " 798: 'best',\n",
              " 5680: 'opportunity',\n",
              " 5732: 'outcome',\n",
              " 8017: 'structure',\n",
              " 6727: 'reduce',\n",
              " 4550: 'key',\n",
              " 3275: 'flourish',\n",
              " 822: 'biggest',\n",
              " 2741: 'employees',\n",
              " 6684: 'receive',\n",
              " 4714: 'leave',\n",
              " 2887: 'even',\n",
              " 5808: 'paid',\n",
              " 4302: 'instead',\n",
              " 6461: 'providing',\n",
              " 5654: 'only',\n",
              " 5024: 'mandatory',\n",
              " 6538: 'quarantine',\n",
              " 4312: 'insufficient',\n",
              " 6436: 'protect',\n",
              " 2852: 'especially',\n",
              " 4841: 'little',\n",
              " 8321: 'testing',\n",
              " 3306: 'followed',\n",
              " 188: 'ago',\n",
              " 5809: 'pain',\n",
              " 9330: 'yourself',\n",
              " 3423: 'from',\n",
              " 8484: 'took',\n",
              " 6026: 'pictures',\n",
              " 5099: 'md',\n",
              " 3274: 'flour',\n",
              " 8074: 'sugar',\n",
              " 8176: 'sweet',\n",
              " 6200: 'potatoes',\n",
              " 5692: 'orange',\n",
              " 4507: 'juice',\n",
              " 8514: 'towels',\n",
              " 5113: 'meat',\n",
              " 4964: 'mac',\n",
              " 1370: 'cheese',\n",
              " 8171: 'swear',\n",
              " 2074: 'deal',\n",
              " 1110: 'buyers',\n",
              " 6621: 'rapid',\n",
              " 7635: 'slots',\n",
              " 2708: 'elsewhere',\n",
              " 7339: 'seemed',\n",
              " 3208: 'fine',\n",
              " 2711: 'email',\n",
              " 4831: 'listing',\n",
              " 945: 'bottle',\n",
              " 3552: 'getting',\n",
              " 3110: 'fault',\n",
              " 7506: 'short',\n",
              " 7154: 'safely',\n",
              " 5104: 'meaning',\n",
              " 7041: 'risk',\n",
              " 7823: 'spreading',\n",
              " 3435: 'ft',\n",
              " 9062: 'washing',\n",
              " 3770: 'hands',\n",
              " 2703: 'eliminate',\n",
              " 6690: 'recession',\n",
              " 5996: 'phases',\n",
              " 2034: 'damage',\n",
              " 4982: 'main',\n",
              " 7988: 'street',\n",
              " 5650: 'ongoing',\n",
              " 6894: 'rescue',\n",
              " 8291: 'temp',\n",
              " 6717: 'recovery',\n",
              " 5270: 'mkt',\n",
              " 2639: 'econ',\n",
              " 8769: 'unknown',\n",
              " 7315: 'second',\n",
              " 7486: 'shock',\n",
              " 4661: 'later',\n",
              " 3198: 'finally',\n",
              " 1017: 'brings',\n",
              " 9030: 'wall',\n",
              " 279: 'altogether',\n",
              " 7830: 'spx',\n",
              " 2763: 'end',\n",
              " 8131: 'surgical',\n",
              " 6687: 'receiving',\n",
              " 8118: 'supposed',\n",
              " 2382: 'disinfect',\n",
              " 6660: 'real',\n",
              " 9255: 'worlds',\n",
              " 5980: 'petition',\n",
              " 805: 'bev',\n",
              " 1553: 'colorado',\n",
              " 7879: 'starbucks',\n",
              " 5347: 'moves',\n",
              " 666: 'bar',\n",
              " 3147: 'feels',\n",
              " 8807: 'update',\n",
              " 4995: 'make',\n",
              " 4832: 'listings',\n",
              " 1382: 'chick',\n",
              " ...}"
            ]
          },
          "metadata": {
            "tags": []
          },
          "execution_count": 8
        }
      ]
    },
    {
      "cell_type": "code",
      "metadata": {
        "id": "8iF3TavceRGz"
      },
      "source": [
        ""
      ],
      "execution_count": null,
      "outputs": []
    },
    {
      "cell_type": "code",
      "metadata": {
        "colab": {
          "base_uri": "https://localhost:8080/"
        },
        "id": "xK78Xr-uZcWC",
        "outputId": "2b34bbe6-6079-4bbb-b66e-e7c9e00ad93e"
      },
      "source": [
        "\r\n",
        "selector = SelectKBest(k=1000,score_func=chi2)\r\n",
        "X_selec=selector.fit_transform(X_train_tfidf.toarray(), y_train)\r\n",
        "# Get columns to keep and create new dataframe with those only\r\n",
        "cols = selector.get_support(indices=True)\r\n",
        "select_k_voca=[tfidf_voca[k]for k in cols]\r\n",
        "print(select_k_voca[:10], select_k_voca[-10:])"
      ],
      "execution_count": 9,
      "outputs": [
        {
          "output_type": "stream",
          "text": [
            "['ability', 'about', 'absolutely', 'abuse', 'abusing', 'access', 'accused', 'active', 'additive', 'adequate'] ['wow', 'wrong', 'wtf', 'wuhan', 'yeah', 'yes', 'you', 'yourself', 'youtube', 'zero']\n"
          ],
          "name": "stdout"
        }
      ]
    },
    {
      "cell_type": "code",
      "metadata": {
        "colab": {
          "base_uri": "https://localhost:8080/",
          "height": 226
        },
        "id": "OQT-0CwUYksL",
        "outputId": "793e83da-84e8-44ee-e5b9-0ef994661b4d"
      },
      "source": [
        "important_features_dict = {}\r\n",
        "for x,i in enumerate(clf.feature_importances_):\r\n",
        "    name=select_k_voca[x]\r\n",
        "    important_features_dict[name]=i\r\n"
      ],
      "execution_count": 10,
      "outputs": [
        {
          "output_type": "error",
          "ename": "NameError",
          "evalue": "ignored",
          "traceback": [
            "\u001b[0;31m---------------------------------------------------------------------------\u001b[0m",
            "\u001b[0;31mNameError\u001b[0m                                 Traceback (most recent call last)",
            "\u001b[0;32m<ipython-input-10-1d30ab755e22>\u001b[0m in \u001b[0;36m<module>\u001b[0;34m()\u001b[0m\n\u001b[1;32m      1\u001b[0m \u001b[0mimportant_features_dict\u001b[0m \u001b[0;34m=\u001b[0m \u001b[0;34m{\u001b[0m\u001b[0;34m}\u001b[0m\u001b[0;34m\u001b[0m\u001b[0;34m\u001b[0m\u001b[0m\n\u001b[0;32m----> 2\u001b[0;31m \u001b[0;32mfor\u001b[0m \u001b[0mx\u001b[0m\u001b[0;34m,\u001b[0m\u001b[0mi\u001b[0m \u001b[0;32min\u001b[0m \u001b[0menumerate\u001b[0m\u001b[0;34m(\u001b[0m\u001b[0mclf\u001b[0m\u001b[0;34m.\u001b[0m\u001b[0mfeature_importances_\u001b[0m\u001b[0;34m)\u001b[0m\u001b[0;34m:\u001b[0m\u001b[0;34m\u001b[0m\u001b[0;34m\u001b[0m\u001b[0m\n\u001b[0m\u001b[1;32m      3\u001b[0m     \u001b[0mname\u001b[0m\u001b[0;34m=\u001b[0m\u001b[0mselect_k_voca\u001b[0m\u001b[0;34m[\u001b[0m\u001b[0mx\u001b[0m\u001b[0;34m]\u001b[0m\u001b[0;34m\u001b[0m\u001b[0;34m\u001b[0m\u001b[0m\n\u001b[1;32m      4\u001b[0m     \u001b[0mimportant_features_dict\u001b[0m\u001b[0;34m[\u001b[0m\u001b[0mname\u001b[0m\u001b[0;34m]\u001b[0m\u001b[0;34m=\u001b[0m\u001b[0mi\u001b[0m\u001b[0;34m\u001b[0m\u001b[0;34m\u001b[0m\u001b[0m\n",
            "\u001b[0;31mNameError\u001b[0m: name 'clf' is not defined"
          ]
        }
      ]
    },
    {
      "cell_type": "code",
      "metadata": {
        "colab": {
          "base_uri": "https://localhost:8080/",
          "height": 49
        },
        "id": "kI4Ott3zgJbc",
        "outputId": "399a4e68-28b8-4df9-ea2f-a5e1366081fe"
      },
      "source": [
        "data=pd.DataFrame(important_features_dict.items(), columns=['feature_names', 'feature_importance'])\r\n",
        "data.sort_values(by=['feature_importance'], ascending=False,inplace=True)\r\n",
        "data.tail(50) #doctors"
      ],
      "execution_count": 3,
      "outputs": [
        {
          "output_type": "execute_result",
          "data": {
            "text/html": [
              "<div>\n",
              "<style scoped>\n",
              "    .dataframe tbody tr th:only-of-type {\n",
              "        vertical-align: middle;\n",
              "    }\n",
              "\n",
              "    .dataframe tbody tr th {\n",
              "        vertical-align: top;\n",
              "    }\n",
              "\n",
              "    .dataframe thead th {\n",
              "        text-align: right;\n",
              "    }\n",
              "</style>\n",
              "<table border=\"1\" class=\"dataframe\">\n",
              "  <thead>\n",
              "    <tr style=\"text-align: right;\">\n",
              "      <th></th>\n",
              "      <th>feature_names</th>\n",
              "      <th>feature_importance</th>\n",
              "    </tr>\n",
              "  </thead>\n",
              "  <tbody>\n",
              "  </tbody>\n",
              "</table>\n",
              "</div>"
            ],
            "text/plain": [
              "Empty DataFrame\n",
              "Columns: [feature_names, feature_importance]\n",
              "Index: []"
            ]
          },
          "metadata": {
            "tags": []
          },
          "execution_count": 3
        }
      ]
    },
    {
      "cell_type": "code",
      "metadata": {
        "colab": {
          "base_uri": "https://localhost:8080/",
          "height": 1000
        },
        "id": "aChuaT5zWczC",
        "outputId": "5ee8e271-6f1f-4e3f-eb49-4ed1fabe5ff5"
      },
      "source": [
        "def plot_feature_importance(data,model_type):\r\n",
        "  import matplotlib.pyplot as plt\r\n",
        "  import seaborn as sns\r\n",
        "  #Create arrays from feature importance and feature names  \r\n",
        "  fi_df=data\r\n",
        "\r\n",
        "  #Sort the DataFrame in order decreasing feature importance\r\n",
        "  fi_df.sort_values(by=['feature_importance'], ascending=False,inplace=True)\r\n",
        "\r\n",
        "  #Define size of bar plot\r\n",
        "  plt.figure(figsize=(10,8))\r\n",
        "  #Plot Searborn bar chart\r\n",
        "  sns.barplot(x='feature_importance', y='feature_names', data=fi_df[:15])#, order=fi_df[:20]['feature_importance'])\r\n",
        "  # for p in splot.patches:\r\n",
        "  #   splot.annotate(format(p.get_width(), '.1f'), \r\n",
        "  #                  ( p.get_width(), p.get_height()+p.get_x()), \r\n",
        "  #                  ha = 'center', va = 'center', \r\n",
        "  #                  xytext = (0, 9), \r\n",
        "  #                  textcoords = 'offset points')\r\n",
        "  #Add chart labels\r\n",
        "  plt.title(model_type + 'FEATURE IMPORTANCE')\r\n",
        "  plt.xlabel('FEATURE IMPORTANCE')\r\n",
        "  plt.ylabel('FEATURE NAMES')\r\n",
        "\r\n",
        "  return fi_df[:20]\r\n",
        "\r\n",
        "\r\n",
        "plot_feature_importance(data,\"CatBoost \")"
      ],
      "execution_count": 181,
      "outputs": [
        {
          "output_type": "execute_result",
          "data": {
            "text/html": [
              "<div>\n",
              "<style scoped>\n",
              "    .dataframe tbody tr th:only-of-type {\n",
              "        vertical-align: middle;\n",
              "    }\n",
              "\n",
              "    .dataframe tbody tr th {\n",
              "        vertical-align: top;\n",
              "    }\n",
              "\n",
              "    .dataframe thead th {\n",
              "        text-align: right;\n",
              "    }\n",
              "</style>\n",
              "<table border=\"1\" class=\"dataframe\">\n",
              "  <thead>\n",
              "    <tr style=\"text-align: right;\">\n",
              "      <th></th>\n",
              "      <th>feature_names</th>\n",
              "      <th>feature_importance</th>\n",
              "    </tr>\n",
              "  </thead>\n",
              "  <tbody>\n",
              "    <tr>\n",
              "      <th>620</th>\n",
              "      <td>panic</td>\n",
              "      <td>4.737707</td>\n",
              "    </tr>\n",
              "    <tr>\n",
              "      <th>412</th>\n",
              "      <td>hand</td>\n",
              "      <td>3.751415</td>\n",
              "    </tr>\n",
              "    <tr>\n",
              "      <th>192</th>\n",
              "      <td>crisis</td>\n",
              "      <td>3.623784</td>\n",
              "    </tr>\n",
              "    <tr>\n",
              "      <th>528</th>\n",
              "      <td>like</td>\n",
              "      <td>3.074650</td>\n",
              "    </tr>\n",
              "    <tr>\n",
              "      <th>426</th>\n",
              "      <td>help</td>\n",
              "      <td>2.731650</td>\n",
              "    </tr>\n",
              "    <tr>\n",
              "      <th>230</th>\n",
              "      <td>demand</td>\n",
              "      <td>2.705629</td>\n",
              "    </tr>\n",
              "    <tr>\n",
              "      <th>734</th>\n",
              "      <td>safe</td>\n",
              "      <td>1.749515</td>\n",
              "    </tr>\n",
              "    <tr>\n",
              "      <th>640</th>\n",
              "      <td>please</td>\n",
              "      <td>1.741968</td>\n",
              "    </tr>\n",
              "    <tr>\n",
              "      <th>180</th>\n",
              "      <td>covid</td>\n",
              "      <td>1.415925</td>\n",
              "    </tr>\n",
              "    <tr>\n",
              "      <th>870</th>\n",
              "      <td>thank</td>\n",
              "      <td>1.401352</td>\n",
              "    </tr>\n",
              "    <tr>\n",
              "      <th>371</th>\n",
              "      <td>free</td>\n",
              "      <td>1.388599</td>\n",
              "    </tr>\n",
              "    <tr>\n",
              "      <th>397</th>\n",
              "      <td>good</td>\n",
              "      <td>1.367117</td>\n",
              "    </tr>\n",
              "    <tr>\n",
              "      <th>663</th>\n",
              "      <td>prices</td>\n",
              "      <td>1.352546</td>\n",
              "    </tr>\n",
              "    <tr>\n",
              "      <th>847</th>\n",
              "      <td>support</td>\n",
              "      <td>1.244340</td>\n",
              "    </tr>\n",
              "    <tr>\n",
              "      <th>816</th>\n",
              "      <td>stop</td>\n",
              "      <td>1.244050</td>\n",
              "    </tr>\n",
              "    <tr>\n",
              "      <th>402</th>\n",
              "      <td>great</td>\n",
              "      <td>1.152689</td>\n",
              "    </tr>\n",
              "    <tr>\n",
              "      <th>596</th>\n",
              "      <td>no</td>\n",
              "      <td>1.133243</td>\n",
              "    </tr>\n",
              "    <tr>\n",
              "      <th>78</th>\n",
              "      <td>best</td>\n",
              "      <td>1.084794</td>\n",
              "    </tr>\n",
              "    <tr>\n",
              "      <th>745</th>\n",
              "      <td>scams</td>\n",
              "      <td>1.053446</td>\n",
              "    </tr>\n",
              "    <tr>\n",
              "      <th>303</th>\n",
              "      <td>empty</td>\n",
              "      <td>0.919864</td>\n",
              "    </tr>\n",
              "  </tbody>\n",
              "</table>\n",
              "</div>"
            ],
            "text/plain": [
              "    feature_names  feature_importance\n",
              "620         panic            4.737707\n",
              "412          hand            3.751415\n",
              "192        crisis            3.623784\n",
              "528          like            3.074650\n",
              "426          help            2.731650\n",
              "230        demand            2.705629\n",
              "734          safe            1.749515\n",
              "640        please            1.741968\n",
              "180         covid            1.415925\n",
              "870         thank            1.401352\n",
              "371          free            1.388599\n",
              "397          good            1.367117\n",
              "663        prices            1.352546\n",
              "847       support            1.244340\n",
              "816          stop            1.244050\n",
              "402         great            1.152689\n",
              "596            no            1.133243\n",
              "78           best            1.084794\n",
              "745         scams            1.053446\n",
              "303         empty            0.919864"
            ]
          },
          "metadata": {
            "tags": []
          },
          "execution_count": 181
        },
        {
          "output_type": "display_data",
          "data": {
            "image/png": "[encoded data removed]",
            "text/plain": [
              "<Figure size 720x576 with 1 Axes>"
            ]
          },
          "metadata": {
            "tags": [],
            "needs_background": "light"
          }
        }
      ]
    },
    {
      "cell_type": "code",
      "metadata": {
        "id": "gsJARmjBgnuQ"
      },
      "source": [
        ""
      ],
      "execution_count": null,
      "outputs": []
    },
    {
      "cell_type": "code",
      "metadata": {
        "id": "0YPfN87ypwAy"
      },
      "source": [
        ""
      ],
      "execution_count": null,
      "outputs": []
    },
    {
      "cell_type": "code",
      "metadata": {
        "colab": {
          "base_uri": "https://localhost:8080/"
        },
        "id": "78Kz9cSRpwDA",
        "outputId": "e20255e6-8728-4949-d2f6-49619ed685a7"
      },
      "source": [
        "ngram=(1,1)\r\n",
        "preproc = Pipeline([('tfidf',TfidfVectorizer(ngram_range = ngram,min_df = 5, max_df=0.6,lowercase = True)),('to_dense', DenseTransformer()),\r\n",
        "                      ('selec',SelectKBest(k=1000,score_func=chi2))])\r\n",
        "X_train1=preproc.fit_transform(X_train,y_train)\r\n",
        "X_test1=preproc.transform(X_test)\r\n",
        "\r\n",
        "X_df=pd.DataFrame(X_train1, columns=select_k_voca)\r\n",
        "X_df.head()\r\n",
        "lgb_clf=lgb.LGBMClassifier(random_state=0,silent=True, verbose_eval=50, max_depth= 50, min_data_in_leaf= 10, n_estimators= 500, num_leaves= 30, reg_alpha= 0.01)\r\n",
        "\r\n",
        "lgb_clf.fit(X_df, y_train)\r\n",
        "#print(clf.score(X_train1,y_train))                                                                                                                                                           \r\n",
        "print('Model Training Accuracy w/o CV: %.3f' % lgb_clf.score(X_train1, y_train))\r\n",
        "print('Model Test Accuracy w/o CV: %.3f' % lgb_clf.score(X_test1, y_test))\r\n"
      ],
      "execution_count": 30,
      "outputs": [
        {
          "output_type": "stream",
          "text": [
            "Model Training Accuracy w/o CV: 0.899\n",
            "Model Test Accuracy w/o CV: 0.824\n"
          ],
          "name": "stdout"
        }
      ]
    },
    {
      "cell_type": "code",
      "metadata": {
        "colab": {
          "base_uri": "https://localhost:8080/",
          "height": 204
        },
        "id": "wu5D11-IpwpQ",
        "outputId": "4bc00d23-726a-4656-8f44-40537839858e"
      },
      "source": [
        "important_features_dict = {}\r\n",
        "for x,i in enumerate(lgb_clf.feature_importances_):\r\n",
        "    name=select_k_voca[x]\r\n",
        "    important_features_dict[name]=i\r\n",
        "data=pd.DataFrame(important_features_dict.items(), columns=['feature_names', 'feature_importance'])\r\n",
        "data.sort_values(by=['feature_importance'], ascending=False,inplace=True)\r\n",
        "data.tail()\r\n"
      ],
      "execution_count": 182,
      "outputs": [
        {
          "output_type": "execute_result",
          "data": {
            "text/html": [
              "<div>\n",
              "<style scoped>\n",
              "    .dataframe tbody tr th:only-of-type {\n",
              "        vertical-align: middle;\n",
              "    }\n",
              "\n",
              "    .dataframe tbody tr th {\n",
              "        vertical-align: top;\n",
              "    }\n",
              "\n",
              "    .dataframe thead th {\n",
              "        text-align: right;\n",
              "    }\n",
              "</style>\n",
              "<table border=\"1\" class=\"dataframe\">\n",
              "  <thead>\n",
              "    <tr style=\"text-align: right;\">\n",
              "      <th></th>\n",
              "      <th>feature_names</th>\n",
              "      <th>feature_importance</th>\n",
              "    </tr>\n",
              "  </thead>\n",
              "  <tbody>\n",
              "    <tr>\n",
              "      <th>801</th>\n",
              "      <td>ssa</td>\n",
              "      <td>0</td>\n",
              "    </tr>\n",
              "    <tr>\n",
              "      <th>707</th>\n",
              "      <td>remodels</td>\n",
              "      <td>0</td>\n",
              "    </tr>\n",
              "    <tr>\n",
              "      <th>800</th>\n",
              "      <td>spurs</td>\n",
              "      <td>0</td>\n",
              "    </tr>\n",
              "    <tr>\n",
              "      <th>786</th>\n",
              "      <td>slaps</td>\n",
              "      <td>0</td>\n",
              "    </tr>\n",
              "    <tr>\n",
              "      <th>331</th>\n",
              "      <td>exposes</td>\n",
              "      <td>0</td>\n",
              "    </tr>\n",
              "  </tbody>\n",
              "</table>\n",
              "</div>"
            ],
            "text/plain": [
              "    feature_names  feature_importance\n",
              "801           ssa                   0\n",
              "707      remodels                   0\n",
              "800         spurs                   0\n",
              "786         slaps                   0\n",
              "331       exposes                   0"
            ]
          },
          "metadata": {
            "tags": []
          },
          "execution_count": 182
        }
      ]
    },
    {
      "cell_type": "code",
      "metadata": {
        "colab": {
          "base_uri": "https://localhost:8080/",
          "height": 1000
        },
        "id": "wDrAMuVDpwrZ",
        "outputId": "9fafa246-33ca-4d5b-f824-7d513a470134"
      },
      "source": [
        "\r\n",
        "plot_feature_importance(data,\"LightGBM \")"
      ],
      "execution_count": 183,
      "outputs": [
        {
          "output_type": "execute_result",
          "data": {
            "text/html": [
              "<div>\n",
              "<style scoped>\n",
              "    .dataframe tbody tr th:only-of-type {\n",
              "        vertical-align: middle;\n",
              "    }\n",
              "\n",
              "    .dataframe tbody tr th {\n",
              "        vertical-align: top;\n",
              "    }\n",
              "\n",
              "    .dataframe thead th {\n",
              "        text-align: right;\n",
              "    }\n",
              "</style>\n",
              "<table border=\"1\" class=\"dataframe\">\n",
              "  <thead>\n",
              "    <tr style=\"text-align: right;\">\n",
              "      <th></th>\n",
              "      <th>feature_names</th>\n",
              "      <th>feature_importance</th>\n",
              "    </tr>\n",
              "  </thead>\n",
              "  <tbody>\n",
              "    <tr>\n",
              "      <th>620</th>\n",
              "      <td>panic</td>\n",
              "      <td>375</td>\n",
              "    </tr>\n",
              "    <tr>\n",
              "      <th>180</th>\n",
              "      <td>covid</td>\n",
              "      <td>368</td>\n",
              "    </tr>\n",
              "    <tr>\n",
              "      <th>192</th>\n",
              "      <td>crisis</td>\n",
              "      <td>348</td>\n",
              "    </tr>\n",
              "    <tr>\n",
              "      <th>528</th>\n",
              "      <td>like</td>\n",
              "      <td>329</td>\n",
              "    </tr>\n",
              "    <tr>\n",
              "      <th>663</th>\n",
              "      <td>prices</td>\n",
              "      <td>321</td>\n",
              "    </tr>\n",
              "    <tr>\n",
              "      <th>359</th>\n",
              "      <td>food</td>\n",
              "      <td>283</td>\n",
              "    </tr>\n",
              "    <tr>\n",
              "      <th>631</th>\n",
              "      <td>people</td>\n",
              "      <td>270</td>\n",
              "    </tr>\n",
              "    <tr>\n",
              "      <th>843</th>\n",
              "      <td>supermarket</td>\n",
              "      <td>261</td>\n",
              "    </tr>\n",
              "    <tr>\n",
              "      <th>412</th>\n",
              "      <td>hand</td>\n",
              "      <td>258</td>\n",
              "    </tr>\n",
              "    <tr>\n",
              "      <th>426</th>\n",
              "      <td>help</td>\n",
              "      <td>255</td>\n",
              "    </tr>\n",
              "    <tr>\n",
              "      <th>640</th>\n",
              "      <td>please</td>\n",
              "      <td>248</td>\n",
              "    </tr>\n",
              "    <tr>\n",
              "      <th>230</th>\n",
              "      <td>demand</td>\n",
              "      <td>247</td>\n",
              "    </tr>\n",
              "    <tr>\n",
              "      <th>596</th>\n",
              "      <td>no</td>\n",
              "      <td>216</td>\n",
              "    </tr>\n",
              "    <tr>\n",
              "      <th>406</th>\n",
              "      <td>grocery</td>\n",
              "      <td>199</td>\n",
              "    </tr>\n",
              "    <tr>\n",
              "      <th>816</th>\n",
              "      <td>stop</td>\n",
              "      <td>192</td>\n",
              "    </tr>\n",
              "    <tr>\n",
              "      <th>397</th>\n",
              "      <td>good</td>\n",
              "      <td>182</td>\n",
              "    </tr>\n",
              "    <tr>\n",
              "      <th>167</th>\n",
              "      <td>consumer</td>\n",
              "      <td>180</td>\n",
              "    </tr>\n",
              "    <tr>\n",
              "      <th>24</th>\n",
              "      <td>amp</td>\n",
              "      <td>179</td>\n",
              "    </tr>\n",
              "    <tr>\n",
              "      <th>820</th>\n",
              "      <td>store</td>\n",
              "      <td>176</td>\n",
              "    </tr>\n",
              "    <tr>\n",
              "      <th>300</th>\n",
              "      <td>emergency</td>\n",
              "      <td>174</td>\n",
              "    </tr>\n",
              "  </tbody>\n",
              "</table>\n",
              "</div>"
            ],
            "text/plain": [
              "    feature_names  feature_importance\n",
              "620         panic                 375\n",
              "180         covid                 368\n",
              "192        crisis                 348\n",
              "528          like                 329\n",
              "663        prices                 321\n",
              "359          food                 283\n",
              "631        people                 270\n",
              "843   supermarket                 261\n",
              "412          hand                 258\n",
              "426          help                 255\n",
              "640        please                 248\n",
              "230        demand                 247\n",
              "596            no                 216\n",
              "406       grocery                 199\n",
              "816          stop                 192\n",
              "397          good                 182\n",
              "167      consumer                 180\n",
              "24            amp                 179\n",
              "820         store                 176\n",
              "300     emergency                 174"
            ]
          },
          "metadata": {
            "tags": []
          },
          "execution_count": 183
        },
        {
          "output_type": "display_data",
          "data": {
            "image/png": "[encoded data removed]",
            "text/plain": [
              "<Figure size 720x576 with 1 Axes>"
            ]
          },
          "metadata": {
            "tags": [],
            "needs_background": "light"
          }
        }
      ]
    },
    {
      "cell_type": "code",
      "metadata": {
        "id": "fHuCc4epzrbC"
      },
      "source": [
        ""
      ],
      "execution_count": 190,
      "outputs": []
    },
    {
      "cell_type": "code",
      "metadata": {
        "colab": {
          "base_uri": "https://localhost:8080/",
          "height": 35
        },
        "id": "z-dm4Igy0pqT",
        "outputId": "d07067cb-bc80-4cbc-a23a-a8df865f1ae3"
      },
      "source": [
        ""
      ],
      "execution_count": 200,
      "outputs": [
        {
          "output_type": "execute_result",
          "data": {
            "application/vnd.google.colaboratory.intrinsic+json": {
              "type": "string"
            },
            "text/plain": [
              "'my food stock one empty please panic there will be enough food for everyone take need stay calm stay safe'"
            ]
          },
          "metadata": {
            "tags": []
          },
          "execution_count": 200
        }
      ]
    },
    {
      "cell_type": "code",
      "metadata": {
        "colab": {
          "base_uri": "https://localhost:8080/",
          "height": 369
        },
        "id": "CpTy4zS3rAA0",
        "outputId": "6ef99bd4-cf8e-473f-a1ba-b1cf1c7db4ab"
      },
      "source": [
        "background=[i for i,x in enumerate(X_train1) if x[620]!=0]\r\n",
        "y_back=y_train[background] #2436개\r\n",
        "X_back=X_train[background] #2436개\r\n",
        "\r\n",
        "y_df=pd.DataFrame(y_back)\r\n",
        "y_df=y_df.replace({'Sentiment': {-1: 'Negative', 0:'Neutral',1: 'Positive'}})\r\n",
        "import matplotlib.pyplot as plt\r\n",
        "import seaborn as sns\r\n",
        "sns.countplot(y_df.Sentiment)\r\n",
        "plt.title(\"Count plot of Sentiments with 'panic'\")\r\n",
        "plt.xlabel('Sentiment')\r\n",
        "plt.ylabel('Count')\r\n",
        "\r\n",
        "# "
      ],
      "execution_count": 198,
      "outputs": [
        {
          "output_type": "stream",
          "text": [
            "/usr/local/lib/python3.6/dist-packages/seaborn/_decorators.py:43: FutureWarning: Pass the following variable as a keyword arg: x. From version 0.12, the only valid positional argument will be `data`, and passing other arguments without an explicit keyword will result in an error or misinterpretation.\n",
            "  FutureWarning\n"
          ],
          "name": "stderr"
        },
        {
          "output_type": "execute_result",
          "data": {
            "text/plain": [
              "Text(0, 0.5, 'Count')"
            ]
          },
          "metadata": {
            "tags": []
          },
          "execution_count": 198
        },
        {
          "output_type": "display_data",
          "data": {
            "image/png": "[encoded data removed]",
            "text/plain": [
              "<Figure size 432x288 with 1 Axes>"
            ]
          },
          "metadata": {
            "tags": [],
            "needs_background": "light"
          }
        }
      ]
    },
    {
      "cell_type": "code",
      "metadata": {
        "colab": {
          "base_uri": "https://localhost:8080/"
        },
        "id": "pKCj9Kzw11RC",
        "outputId": "f864983d-4cd1-4248-d052-5b93185c84fe"
      },
      "source": [
        "print(X_back[6])\r\n",
        "print(X_back[7])\r\n",
        "print(X_back[29])"
      ],
      "execution_count": 207,
      "outputs": [
        {
          "output_type": "stream",
          "text": [
            "my food stock one empty please panic there will be enough food for everyone take need stay calm stay safe\n",
            "me ready go supermarket outbreak not i paranoid food stock litteraly empty the serious thing please panic it causes shortage\n",
            "this morning i tested positive covid i feel ok i symptoms far isolated since i found possible exposure virus stay home people pragmatic i keep updated i no panic\n"
          ],
          "name": "stdout"
        }
      ]
    },
    {
      "cell_type": "code",
      "metadata": {
        "colab": {
          "base_uri": "https://localhost:8080/",
          "height": 567
        },
        "id": "UkmkSiu-tkjD",
        "outputId": "6a6abb08-fd13-4fd1-a354-6ed834f2149d"
      },
      "source": [
        "background=[i for i,x in enumerate(X_train1) if x[180]!=0]\r\n",
        "y_back=y_train[background] #2436개\r\n",
        "X_back=X_train[background] #2436개\r\n",
        "\r\n",
        "y_df=pd.DataFrame(y_back)\r\n",
        "y_df=y_df.replace({'Sentiment': {-1: 'Negative', 0:'Neutral',1: 'Positive'}})\r\n",
        "import matplotlib.pyplot as plt\r\n",
        "import seaborn as sns\r\n",
        "sns.countplot(y_df.Sentiment)\r\n",
        "plt.title(\"Count plot of Sentiments with 'covid'\")\r\n",
        "plt.xlabel('Sentiment')\r\n",
        "plt.ylabel('Count')\r\n",
        "\r\n",
        "\r\n",
        "X_back"
      ],
      "execution_count": 224,
      "outputs": [
        {
          "output_type": "stream",
          "text": [
            "/usr/local/lib/python3.6/dist-packages/seaborn/_decorators.py:43: FutureWarning: Pass the following variable as a keyword arg: x. From version 0.12, the only valid positional argument will be `data`, and passing other arguments without an explicit keyword will result in an error or misinterpretation.\n",
            "  FutureWarning\n"
          ],
          "name": "stderr"
        },
        {
          "output_type": "execute_result",
          "data": {
            "text/plain": [
              "0        donald j trump i worried economic fallout covi...\n",
              "5        coronavirus australia woolworths give elderly ...\n",
              "8        as news region first confirmed covid case came...\n",
              "11       due covid retail store classroom atlanta open ...\n",
              "12       for corona prevention stop buy things cash use...\n",
              "                               ...                        \n",
              "41105                what supermarket nearby getting covid\n",
              "41112    definitely man i feel like fall need honor her...\n",
              "41114    response complaint provided citing covid relat...\n",
              "41117    well new used rift s going amazon rn although ...\n",
              "41118    plus side covid saving money online shopping p...\n",
              "Name: OriginalTweet, Length: 10415, dtype: object"
            ]
          },
          "metadata": {
            "tags": []
          },
          "execution_count": 224
        },
        {
          "output_type": "display_data",
          "data": {
            "image/png": "[encoded data removed]",
            "text/plain": [
              "<Figure size 432x288 with 1 Axes>"
            ]
          },
          "metadata": {
            "tags": [],
            "needs_background": "light"
          }
        }
      ]
    },
    {
      "cell_type": "code",
      "metadata": {
        "colab": {
          "base_uri": "https://localhost:8080/"
        },
        "id": "9xWMC3R13Uuo",
        "outputId": "68cf6464-5925-48b0-9535-b28f30fdf3ac"
      },
      "source": [
        "print(X_back[0])\r\n",
        "print(X_back[5])\r\n",
        "print(X_back[8])"
      ],
      "execution_count": 225,
      "outputs": [
        {
          "output_type": "stream",
          "text": [
            "donald j trump i worried economic fallout covid shelter place combination crashing oil prices i cut chase during holidays credit union program called\n",
            "coronavirus australia woolworths give elderly disabled dedicated shopping hours amid covid outbreak\n",
            "as news region first confirmed covid case came sullivan county last week people flocked area stores purchase cleaning supplies hand sanitizer food toilet paper goods reports\n"
          ],
          "name": "stdout"
        }
      ]
    },
    {
      "cell_type": "code",
      "metadata": {
        "colab": {
          "base_uri": "https://localhost:8080/",
          "height": 621
        },
        "id": "9_2xdZo_sBYt",
        "outputId": "4e0a25ae-cf26-49b1-f5c3-f13959774bdd"
      },
      "source": [
        "background=[i for i,x in enumerate(X_train1) if x[192]!=0]\r\n",
        "y_back=y_train[background] #2436개\r\n",
        "X_back=X_train[background] #2436개\r\n",
        "\r\n",
        "y_df=pd.DataFrame(y_back)\r\n",
        "y_df=y_df.replace({'Sentiment': {-1: 'Negative', 0:'Neutral',1: 'Positive'}})\r\n",
        "import matplotlib.pyplot as plt\r\n",
        "import seaborn as sns\r\n",
        "sns.countplot(y_df.Sentiment)\r\n",
        "plt.title(\"Count plot of Sentiments with 'crisis\")\r\n",
        "plt.xlabel('Sentiment')\r\n",
        "plt.ylabel('Count')\r\n",
        "\r\n",
        "\r\n",
        "X_back"
      ],
      "execution_count": 221,
      "outputs": [
        {
          "output_type": "stream",
          "text": [
            "spanish supermarket chains amp food distributors paying extra workers crisis plus bonuses\n",
            "soon dwindling supplies unlawful panicky people breaking closed stores amp supermarkets raid normally crisis massive amp lockup\n",
            "check folks so cal i like idea la habra supermarket offers special hours seniors amid covid crisis\n"
          ],
          "name": "stdout"
        },
        {
          "output_type": "stream",
          "text": [
            "/usr/local/lib/python3.6/dist-packages/seaborn/_decorators.py:43: FutureWarning: Pass the following variable as a keyword arg: x. From version 0.12, the only valid positional argument will be `data`, and passing other arguments without an explicit keyword will result in an error or misinterpretation.\n",
            "  FutureWarning\n"
          ],
          "name": "stderr"
        },
        {
          "output_type": "execute_result",
          "data": {
            "text/plain": [
              "3        spanish supermarket chains amp food distributo...\n",
              "31       soon dwindling supplies unlawful panicky peopl...\n",
              "82       check folks so cal i like idea la habra superm...\n",
              "84       an open letter consumer debt holding organizat...\n",
              "109      amid social distancing covid crisis starbucks ...\n",
              "                               ...                        \n",
              "40975    authorities far arrested individuals hoarding ...\n",
              "40991    consumers globally u s america need higher gas...\n",
              "41011    as come covid crisis consumer businesses need ...\n",
              "41077    food banks equipped unemployment rate the fede...\n",
              "41097    as physical stores close clothing retailers ho...\n",
              "Name: OriginalTweet, Length: 1574, dtype: object"
            ]
          },
          "metadata": {
            "tags": []
          },
          "execution_count": 221
        },
        {
          "output_type": "display_data",
          "data": {
            "image/png": "[encoded data removed]",
            "text/plain": [
              "<Figure size 432x288 with 1 Axes>"
            ]
          },
          "metadata": {
            "tags": [],
            "needs_background": "light"
          }
        }
      ]
    },
    {
      "cell_type": "code",
      "metadata": {
        "colab": {
          "base_uri": "https://localhost:8080/"
        },
        "id": "Znbh1Opm3TJh",
        "outputId": "cd265e50-3fd1-4508-cd5f-29728da81cc3"
      },
      "source": [
        "print(X_back[3])\r\n",
        "print(X_back[31])\r\n",
        "print(X_back[82])"
      ],
      "execution_count": 222,
      "outputs": [
        {
          "output_type": "stream",
          "text": [
            "spanish supermarket chains amp food distributors paying extra workers crisis plus bonuses\n",
            "soon dwindling supplies unlawful panicky people breaking closed stores amp supermarkets raid normally crisis massive amp lockup\n",
            "check folks so cal i like idea la habra supermarket offers special hours seniors amid covid crisis\n"
          ],
          "name": "stdout"
        }
      ]
    },
    {
      "cell_type": "code",
      "metadata": {
        "colab": {
          "base_uri": "https://localhost:8080/",
          "height": 511
        },
        "id": "zu6MqxYNvH8R",
        "outputId": "68d3cb5e-6b03-47f7-b2e2-4a49c2642e7c"
      },
      "source": [
        "background=[i for i,x in enumerate(X_train1) if x[412]!=0]\r\n",
        "y_back=y_train[background] #2436개\r\n",
        "X_back=X_train[background] #2436개\r\n",
        "\r\n",
        "y_df=pd.DataFrame(y_back)\r\n",
        "y_df=y_df.replace({'Sentiment': {-1: 'Negative', 0:'Neutral',1: 'Positive'}})\r\n",
        "import matplotlib.pyplot as plt\r\n",
        "import seaborn as sns\r\n",
        "sns.countplot(y_df.Sentiment)\r\n",
        "plt.title(\"Count plot of Sentiments with 'hand'\")\r\n",
        "plt.xlabel('Sentiment')\r\n",
        "plt.ylabel('Count')\r\n",
        "\r\n",
        "\r\n",
        "X_back"
      ],
      "execution_count": 43,
      "outputs": [
        {
          "output_type": "execute_result",
          "data": {
            "text/plain": [
              "2        joined growing list distilleries producing don...\n",
              "8        as news region first confirmed covid case came...\n",
              "91       the fact canned food toxic chemicals store bou...\n",
              "153      mum actually mounted dispenser soap you wash h...\n",
              "160      also people stocking soap hand sanitiser toile...\n",
              "                               ...                        \n",
              "41037    washing hands soap water best way keep coronav...\n",
              "41069    check website we currently sale products get h...\n",
              "41099    distilleries switched portions production alco...\n",
              "41106    how exactly going open new york city still can...\n",
              "41116          is wrong smell hand sanitizer starting turn\n",
              "Name: OriginalTweet, Length: 1954, dtype: object"
            ]
          },
          "metadata": {
            "tags": []
          },
          "execution_count": 43
        },
        {
          "output_type": "display_data",
          "data": {
            "image/png": "[encoded data removed]",
            "text/plain": [
              "<Figure size 432x288 with 1 Axes>"
            ]
          },
          "metadata": {
            "tags": [],
            "needs_background": "light"
          }
        }
      ]
    },
    {
      "cell_type": "code",
      "metadata": {
        "colab": {
          "base_uri": "https://localhost:8080/"
        },
        "id": "6sqz7sMjwTd7",
        "outputId": "b767b42b-a772-474d-ccc0-ebee5549252b"
      },
      "source": [
        "print(X_back[2])\r\n",
        "print(X_back[91])\r\n",
        "print(X_back[153])\r\n",
        "print(X_back[160])\r\n",
        "print(X_back[41037])"
      ],
      "execution_count": 45,
      "outputs": [
        {
          "output_type": "stream",
          "text": [
            "joined growing list distilleries producing donating hand sanitizer ease shortage we thankful generous donations gallon drums sanitizer three two\n",
            "the fact canned food toxic chemicals store bought hand sanitizers stock yet fresh fruit vegetables herbs fully stocked shows humans idea immune system works\n",
            "mum actually mounted dispenser soap you wash hand enter supermarket no chance covid\n",
            "also people stocking soap hand sanitiser toilet roll leaving shelves empty rest us you realise stop spread people need able wash hands\n",
            "washing hands soap water best way keep coronavirus bay if soap water readily available use alcohol based hand sanitizer contains least alcohol\n"
          ],
          "name": "stdout"
        }
      ]
    },
    {
      "cell_type": "code",
      "metadata": {
        "colab": {
          "base_uri": "https://localhost:8080/",
          "height": 567
        },
        "id": "3ngOQFJewUVY",
        "outputId": "df40e429-3ee9-41b0-db89-a44abeb02d4b"
      },
      "source": [
        "background=[i for i,x in enumerate(X_train1) if x[528]!=0]\r\n",
        "y_back=y_train[background] #2436개\r\n",
        "X_back=X_train[background] #2436개\r\n",
        "\r\n",
        "y_df=pd.DataFrame(y_back)\r\n",
        "y_df=y_df.replace({'Sentiment': {-1: 'Negative', 0:'Neutral',1: 'Positive'}})\r\n",
        "import matplotlib.pyplot as plt\r\n",
        "import seaborn as sns\r\n",
        "sns.countplot(y_df.Sentiment)\r\n",
        "plt.title(\"Count plot of Sentiments with 'like'\")\r\n",
        "plt.xlabel('Sentiment')\r\n",
        "plt.ylabel('Count')\r\n",
        "\r\n",
        "\r\n",
        "X_back"
      ],
      "execution_count": 229,
      "outputs": [
        {
          "output_type": "stream",
          "text": [
            "/usr/local/lib/python3.6/dist-packages/seaborn/_decorators.py:43: FutureWarning: Pass the following variable as a keyword arg: x. From version 0.12, the only valid positional argument will be `data`, and passing other arguments without an explicit keyword will result in an error or misinterpretation.\n",
            "  FutureWarning\n"
          ],
          "name": "stderr"
        },
        {
          "output_type": "execute_result",
          "data": {
            "text/plain": [
              "41                now i go supermarket like without judged\n",
              "65       so feeling like ethical still stuff like order...\n",
              "72       it kind like saying word makes sound like word...\n",
              "81       as retailers close physical stores curtail hou...\n",
              "82       check folks so cal i like idea la habra superm...\n",
              "                               ...                        \n",
              "41012    i think buying habits temporary changed future...\n",
              "41015    china amp us share s p outcomes china losing w...\n",
              "41040    sneezed grocery store today the power threat p...\n",
              "41111    i never would situation amp world going superm...\n",
              "41112    definitely man i feel like fall need honor her...\n",
              "Name: OriginalTweet, Length: 2254, dtype: object"
            ]
          },
          "metadata": {
            "tags": []
          },
          "execution_count": 229
        },
        {
          "output_type": "display_data",
          "data": {
            "image/png": "[encoded data removed]",
            "text/plain": [
              "<Figure size 432x288 with 1 Axes>"
            ]
          },
          "metadata": {
            "tags": [],
            "needs_background": "light"
          }
        }
      ]
    },
    {
      "cell_type": "code",
      "metadata": {
        "colab": {
          "base_uri": "https://localhost:8080/"
        },
        "id": "MyleW84JwYYD",
        "outputId": "daf0d2ca-11b8-4358-9187-469578e7ba3d"
      },
      "source": [
        "print(X_back[41])\r\n",
        "print(X_back[65])\r\n",
        "print(X_back[72])"
      ],
      "execution_count": 230,
      "outputs": [
        {
          "output_type": "stream",
          "text": [
            "now i go supermarket like without judged\n",
            "so feeling like ethical still stuff like order deliveries food online shopping etc ship isolation care packages loved ones etc\n",
            "it kind like saying word makes sound like word anymore for many people think covid news bs making go stores panic buy food basic necessities nothing left\n"
          ],
          "name": "stdout"
        }
      ]
    },
    {
      "cell_type": "code",
      "metadata": {
        "id": "QyiW1puxwlh0"
      },
      "source": [
        "#########PDP@#####################\r\n",
        "#class 0:negative/ 1: neutral"
      ],
      "execution_count": null,
      "outputs": []
    },
    {
      "cell_type": "code",
      "metadata": {
        "colab": {
          "base_uri": "https://localhost:8080/"
        },
        "id": "PDgjEblRDWsJ",
        "outputId": "9fe5255f-daa0-4c7e-9468-30708f0ecab2"
      },
      "source": [
        "pdp_dist"
      ],
      "execution_count": 34,
      "outputs": [
        {
          "output_type": "execute_result",
          "data": {
            "text/plain": [
              "[<pdpbox.pdp.PDPIsolate at 0x7f1b35beb748>,\n",
              " <pdpbox.pdp.PDPIsolate at 0x7f1b35beb7b8>,\n",
              " <pdpbox.pdp.PDPIsolate at 0x7f1b35bebf98>]"
            ]
          },
          "metadata": {
            "tags": []
          },
          "execution_count": 34
        }
      ]
    },
    {
      "cell_type": "code",
      "metadata": {
        "colab": {
          "base_uri": "https://localhost:8080/",
          "height": 334
        },
        "id": "0yT9F6YAAzma",
        "outputId": "7dc95f30-f210-41a1-a7d7-84454ee6a4f7"
      },
      "source": [
        "\r\n",
        "pdp_dist = pdp.pdp_isolate(model=lgb_clf, dataset=X_df\r\n",
        "                           , model_features=select_k_voca\r\n",
        "                           , feature='panic')\r\n",
        "pdp.pdp_plot(pdp_dist, 'panic', ncols=3);"
      ],
      "execution_count": 36,
      "outputs": [
        {
          "output_type": "display_data",
          "data": {
            "image/png": "[encoded data removed]",
            "text/plain": [
              "<Figure size 1080x360 with 4 Axes>"
            ]
          },
          "metadata": {
            "tags": [],
            "needs_background": "light"
          }
        }
      ]
    },
    {
      "cell_type": "code",
      "metadata": {
        "colab": {
          "base_uri": "https://localhost:8080/",
          "height": 334
        },
        "id": "skufa6KLA0jv",
        "outputId": "6271320c-c6f3-4747-f7a4-29b558f4121d"
      },
      "source": [
        "\r\n",
        "pdp_dist = pdp.pdp_isolate(model=lgb_clf, dataset=X_df\r\n",
        "                           , model_features=select_k_voca\r\n",
        "                           , feature='covid')\r\n",
        "pdp.pdp_plot(pdp_dist, 'covid', ncols=3);"
      ],
      "execution_count": 37,
      "outputs": [
        {
          "output_type": "display_data",
          "data": {
            "image/png": "[encoded data removed]",
            "text/plain": [
              "<Figure size 1080x360 with 4 Axes>"
            ]
          },
          "metadata": {
            "tags": [],
            "needs_background": "light"
          }
        }
      ]
    },
    {
      "cell_type": "code",
      "metadata": {
        "colab": {
          "base_uri": "https://localhost:8080/",
          "height": 334
        },
        "id": "8MlQ6e8IDSGh",
        "outputId": "b41d2cae-184c-48b6-f909-b0f118485b82"
      },
      "source": [
        "\r\n",
        "pdp_dist = pdp.pdp_isolate(model=lgb_clf, dataset=X_df\r\n",
        "                           , model_features=select_k_voca\r\n",
        "                           , feature='crisis')\r\n",
        "pdp.pdp_plot(pdp_dist, 'crisis', ncols=3);"
      ],
      "execution_count": 38,
      "outputs": [
        {
          "output_type": "display_data",
          "data": {
            "image/png": "[encoded data removed]",
            "text/plain": [
              "<Figure size 1080x360 with 4 Axes>"
            ]
          },
          "metadata": {
            "tags": [],
            "needs_background": "light"
          }
        }
      ]
    },
    {
      "cell_type": "code",
      "metadata": {
        "colab": {
          "base_uri": "https://localhost:8080/",
          "height": 334
        },
        "id": "QBfxfl1R6tID",
        "outputId": "a340eeb7-1415-44f7-fc04-0c7821399a04"
      },
      "source": [
        "#CAT\r\n",
        "pdp_dist = pdp.pdp_isolate(model=clf, dataset=X_df\r\n",
        "                           , model_features=select_k_voca\r\n",
        "                           , feature='crisis')\r\n",
        "pdp.pdp_plot(pdp_dist, 'crisis', ncols=3);"
      ],
      "execution_count": 39,
      "outputs": [
        {
          "output_type": "display_data",
          "data": {
            "image/png": "[encoded data removed]",
            "text/plain": [
              "<Figure size 1080x360 with 4 Axes>"
            ]
          },
          "metadata": {
            "tags": [],
            "needs_background": "light"
          }
        }
      ]
    },
    {
      "cell_type": "code",
      "metadata": {
        "colab": {
          "base_uri": "https://localhost:8080/",
          "height": 334
        },
        "id": "U4Y0BxmcAoBx",
        "outputId": "25e35e73-1d32-4035-ee99-bc83a045f3f6"
      },
      "source": [
        "\r\n",
        "pdp_dist = pdp.pdp_isolate(model=clf, dataset=X_df\r\n",
        "                           , model_features=select_k_voca\r\n",
        "                           , feature='panic')\r\n",
        "pdp.pdp_plot(pdp_dist, 'panic', ncols=3);"
      ],
      "execution_count": 40,
      "outputs": [
        {
          "output_type": "display_data",
          "data": {
            "image/png": "[encoded data removed]",
            "text/plain": [
              "<Figure size 1080x360 with 4 Axes>"
            ]
          },
          "metadata": {
            "tags": [],
            "needs_background": "light"
          }
        }
      ]
    },
    {
      "cell_type": "code",
      "metadata": {
        "colab": {
          "base_uri": "https://localhost:8080/",
          "height": 334
        },
        "id": "91HzZVAmAoER",
        "outputId": "88352284-a2c2-446a-a3e7-bd4a94063726"
      },
      "source": [
        "\r\n",
        "pdp_dist = pdp.pdp_isolate(model=clf, dataset=X_df\r\n",
        "                           , model_features=select_k_voca\r\n",
        "                           , feature='hand')\r\n",
        "pdp.pdp_plot(pdp_dist, 'hand', ncols=3);"
      ],
      "execution_count": 41,
      "outputs": [
        {
          "output_type": "display_data",
          "data": {
            "image/png": "[encoded data removed]",
            "text/plain": [
              "<Figure size 1080x360 with 4 Axes>"
            ]
          },
          "metadata": {
            "tags": [],
            "needs_background": "light"
          }
        }
      ]
    },
    {
      "cell_type": "code",
      "metadata": {
        "id": "3uohBc5nAoGi"
      },
      "source": [
        ""
      ],
      "execution_count": null,
      "outputs": []
    },
    {
      "cell_type": "code",
      "metadata": {
        "id": "aEKv8bPJAoMZ"
      },
      "source": [
        ""
      ],
      "execution_count": null,
      "outputs": []
    }
  ]
}